{
  "nbformat": 4,
  "nbformat_minor": 0,
  "metadata": {
    "colab": {
      "provenance": []
    },
    "kernelspec": {
      "name": "python3",
      "display_name": "Python 3"
    },
    "language_info": {
      "name": "python"
    }
  },
  "cells": [
    {
      "cell_type": "markdown",
      "source": [
        "### CAPSTONE - 1 ( HARSHIT ARORA - DS/AI-ML BATCH-1 )"
      ],
      "metadata": {
        "id": "Af3zhwOp2Did"
      }
    },
    {
      "cell_type": "markdown",
      "source": [
        "# Problem Statement\n",
        "#### Bright Motor Company want to analyze the data to get a fair idea about the demand of customers which will help them in enhancing their customer experience. Suppose you are a Data Scientist at the company and the Data Science team has shared some of the key questions that need to be answered. Perform the data analysis to find answers to these questions that will help the company to improve the business change language\n"
      ],
      "metadata": {
        "id": "CEgJBPJU1JDc"
      }
    },
    {
      "cell_type": "markdown",
      "source": [
        "\n",
        "Data Description\n",
        "* Age: The age of the individual in years.\n",
        "* Gender: The gender of the individual, categorized as male or female.\n",
        "* Profession: The occupation or profession of the individual.\n",
        "* Marital_status: The marital status of the individual, such as married &, single\n",
        "* Education: The educational qualification of the individual Graduate and Post Graduate\n",
        "* No_of_Dependents: The number of dependents (e.g., children, elderly parents) that the individual supports financially.\n",
        "* Personal_loan: A binary variable indicating whether the individual has taken a personal loan \"Yes\" or \"No\"\n",
        "* House_loan: A binary variable indicating whether the individual has taken a housing loan \"Yes\" or \"No\"\n",
        "* Partner_working: A binary variable indicating whether the individual's partner is employed \"Yes\" or \"No\"\n",
        "* Salary: The individual's salary or income.\n",
        "* Partner_salary: The salary or income of the individual's partner, if applicable.\n",
        "* Total_salary: The total combined salary of the individual and their partner (if applicable).\n",
        "* Price: The price of a product or service.\n",
        "* Make: The type of automobile"
      ],
      "metadata": {
        "id": "FaS4l_TQA_30"
      }
    },
    {
      "cell_type": "markdown",
      "source": [
        "#**Bright Motor Company Data Analysis**\n",
        "\n"
      ],
      "metadata": {
        "id": "tPRAKiQNVlLb"
      }
    },
    {
      "cell_type": "code",
      "execution_count": null,
      "metadata": {
        "colab": {
          "base_uri": "https://localhost:8080/",
          "height": 36
        },
        "id": "g09LjW2oHNG9",
        "outputId": "4912b6f5-3e17-4d1a-c69b-31640feae7d7"
      },
      "outputs": [
        {
          "output_type": "execute_result",
          "data": {
            "text/plain": [
              "'/content'"
            ],
            "application/vnd.google.colaboratory.intrinsic+json": {
              "type": "string"
            }
          },
          "metadata": {},
          "execution_count": 69
        }
      ],
      "source": [
        "import os\n",
        "os.getcwd()"
      ]
    },
    {
      "cell_type": "markdown",
      "source": [
        "## **Importing Libraries**"
      ],
      "metadata": {
        "id": "FIGm17ZBCcnX"
      }
    },
    {
      "cell_type": "code",
      "source": [
        "import pandas as pd\n",
        "import numpy as np\n",
        "import matplotlib.pyplot as plt\n",
        "import seaborn as sns"
      ],
      "metadata": {
        "id": "wdekTUpOHmgi"
      },
      "execution_count": null,
      "outputs": []
    },
    {
      "cell_type": "markdown",
      "source": [
        "##**Reading the Dataset**"
      ],
      "metadata": {
        "id": "YjacfojpCtcG"
      }
    },
    {
      "cell_type": "code",
      "source": [
        "data = pd.read_csv('/content/bright_automotive_company (1).csv', encoding='utf-8')\n"
      ],
      "metadata": {
        "id": "RC8wfwN7IJnv"
      },
      "execution_count": null,
      "outputs": []
    },
    {
      "cell_type": "markdown",
      "source": [
        "##**Basic Steps**"
      ],
      "metadata": {
        "id": "sSHuszBSC7In"
      }
    },
    {
      "cell_type": "markdown",
      "source": [
        "1-Display the top 5 rows."
      ],
      "metadata": {
        "id": "3O9wNQJAcS-i"
      }
    },
    {
      "cell_type": "code",
      "source": [
        "data.head()"
      ],
      "metadata": {
        "colab": {
          "base_uri": "https://localhost:8080/",
          "height": 295
        },
        "id": "LFdfN0p9Itf0",
        "outputId": "892cc52a-af2a-499f-8410-07e69932fa2a"
      },
      "execution_count": null,
      "outputs": [
        {
          "output_type": "execute_result",
          "data": {
            "text/plain": [
              "   Age  Gender Profession Marital_status      Education No_of_Dependents  \\\n",
              "0   53    Male   Business        Married  Post Graduate                4   \n",
              "1   53   Femal   Salaried        Married  Post Graduate                4   \n",
              "2   53  Female   Salaried        Married  Post Graduate                3   \n",
              "3   53  Female   Salaried        Married       Graduate                ?   \n",
              "4   53    Male        NaN        Married  Post Graduate                3   \n",
              "\n",
              "  Personal_loan House_loan Partner_working   Salary  Partner_salary  \\\n",
              "0            No         No             Yes  99300.0         70700.0   \n",
              "1           Yes         No             Yes  95500.0         70300.0   \n",
              "2            No         No             Yes  97300.0         60700.0   \n",
              "3           Yes         No             Yes  72500.0         70300.0   \n",
              "4            No         No             Yes  79700.0         60200.0   \n",
              "\n",
              "   Total_salary  Price Make  \n",
              "0        170000  61000  SUV  \n",
              "1        165800  61000  SUV  \n",
              "2        158000  57000  SUV  \n",
              "3        142800  61000    ?  \n",
              "4        139900  57000  SUV  "
            ],
            "text/html": [
              "\n",
              "  <div id=\"df-c027d0ff-36ec-442f-9df4-661c7df58b93\" class=\"colab-df-container\">\n",
              "    <div>\n",
              "<style scoped>\n",
              "    .dataframe tbody tr th:only-of-type {\n",
              "        vertical-align: middle;\n",
              "    }\n",
              "\n",
              "    .dataframe tbody tr th {\n",
              "        vertical-align: top;\n",
              "    }\n",
              "\n",
              "    .dataframe thead th {\n",
              "        text-align: right;\n",
              "    }\n",
              "</style>\n",
              "<table border=\"1\" class=\"dataframe\">\n",
              "  <thead>\n",
              "    <tr style=\"text-align: right;\">\n",
              "      <th></th>\n",
              "      <th>Age</th>\n",
              "      <th>Gender</th>\n",
              "      <th>Profession</th>\n",
              "      <th>Marital_status</th>\n",
              "      <th>Education</th>\n",
              "      <th>No_of_Dependents</th>\n",
              "      <th>Personal_loan</th>\n",
              "      <th>House_loan</th>\n",
              "      <th>Partner_working</th>\n",
              "      <th>Salary</th>\n",
              "      <th>Partner_salary</th>\n",
              "      <th>Total_salary</th>\n",
              "      <th>Price</th>\n",
              "      <th>Make</th>\n",
              "    </tr>\n",
              "  </thead>\n",
              "  <tbody>\n",
              "    <tr>\n",
              "      <th>0</th>\n",
              "      <td>53</td>\n",
              "      <td>Male</td>\n",
              "      <td>Business</td>\n",
              "      <td>Married</td>\n",
              "      <td>Post Graduate</td>\n",
              "      <td>4</td>\n",
              "      <td>No</td>\n",
              "      <td>No</td>\n",
              "      <td>Yes</td>\n",
              "      <td>99300.0</td>\n",
              "      <td>70700.0</td>\n",
              "      <td>170000</td>\n",
              "      <td>61000</td>\n",
              "      <td>SUV</td>\n",
              "    </tr>\n",
              "    <tr>\n",
              "      <th>1</th>\n",
              "      <td>53</td>\n",
              "      <td>Femal</td>\n",
              "      <td>Salaried</td>\n",
              "      <td>Married</td>\n",
              "      <td>Post Graduate</td>\n",
              "      <td>4</td>\n",
              "      <td>Yes</td>\n",
              "      <td>No</td>\n",
              "      <td>Yes</td>\n",
              "      <td>95500.0</td>\n",
              "      <td>70300.0</td>\n",
              "      <td>165800</td>\n",
              "      <td>61000</td>\n",
              "      <td>SUV</td>\n",
              "    </tr>\n",
              "    <tr>\n",
              "      <th>2</th>\n",
              "      <td>53</td>\n",
              "      <td>Female</td>\n",
              "      <td>Salaried</td>\n",
              "      <td>Married</td>\n",
              "      <td>Post Graduate</td>\n",
              "      <td>3</td>\n",
              "      <td>No</td>\n",
              "      <td>No</td>\n",
              "      <td>Yes</td>\n",
              "      <td>97300.0</td>\n",
              "      <td>60700.0</td>\n",
              "      <td>158000</td>\n",
              "      <td>57000</td>\n",
              "      <td>SUV</td>\n",
              "    </tr>\n",
              "    <tr>\n",
              "      <th>3</th>\n",
              "      <td>53</td>\n",
              "      <td>Female</td>\n",
              "      <td>Salaried</td>\n",
              "      <td>Married</td>\n",
              "      <td>Graduate</td>\n",
              "      <td>?</td>\n",
              "      <td>Yes</td>\n",
              "      <td>No</td>\n",
              "      <td>Yes</td>\n",
              "      <td>72500.0</td>\n",
              "      <td>70300.0</td>\n",
              "      <td>142800</td>\n",
              "      <td>61000</td>\n",
              "      <td>?</td>\n",
              "    </tr>\n",
              "    <tr>\n",
              "      <th>4</th>\n",
              "      <td>53</td>\n",
              "      <td>Male</td>\n",
              "      <td>NaN</td>\n",
              "      <td>Married</td>\n",
              "      <td>Post Graduate</td>\n",
              "      <td>3</td>\n",
              "      <td>No</td>\n",
              "      <td>No</td>\n",
              "      <td>Yes</td>\n",
              "      <td>79700.0</td>\n",
              "      <td>60200.0</td>\n",
              "      <td>139900</td>\n",
              "      <td>57000</td>\n",
              "      <td>SUV</td>\n",
              "    </tr>\n",
              "  </tbody>\n",
              "</table>\n",
              "</div>\n",
              "    <div class=\"colab-df-buttons\">\n",
              "\n",
              "  <div class=\"colab-df-container\">\n",
              "    <button class=\"colab-df-convert\" onclick=\"convertToInteractive('df-c027d0ff-36ec-442f-9df4-661c7df58b93')\"\n",
              "            title=\"Convert this dataframe to an interactive table.\"\n",
              "            style=\"display:none;\">\n",
              "\n",
              "  <svg xmlns=\"http://www.w3.org/2000/svg\" height=\"24px\" viewBox=\"0 -960 960 960\">\n",
              "    <path d=\"M120-120v-720h720v720H120Zm60-500h600v-160H180v160Zm220 220h160v-160H400v160Zm0 220h160v-160H400v160ZM180-400h160v-160H180v160Zm440 0h160v-160H620v160ZM180-180h160v-160H180v160Zm440 0h160v-160H620v160Z\"/>\n",
              "  </svg>\n",
              "    </button>\n",
              "\n",
              "  <style>\n",
              "    .colab-df-container {\n",
              "      display:flex;\n",
              "      gap: 12px;\n",
              "    }\n",
              "\n",
              "    .colab-df-convert {\n",
              "      background-color: #E8F0FE;\n",
              "      border: none;\n",
              "      border-radius: 50%;\n",
              "      cursor: pointer;\n",
              "      display: none;\n",
              "      fill: #1967D2;\n",
              "      height: 32px;\n",
              "      padding: 0 0 0 0;\n",
              "      width: 32px;\n",
              "    }\n",
              "\n",
              "    .colab-df-convert:hover {\n",
              "      background-color: #E2EBFA;\n",
              "      box-shadow: 0px 1px 2px rgba(60, 64, 67, 0.3), 0px 1px 3px 1px rgba(60, 64, 67, 0.15);\n",
              "      fill: #174EA6;\n",
              "    }\n",
              "\n",
              "    .colab-df-buttons div {\n",
              "      margin-bottom: 4px;\n",
              "    }\n",
              "\n",
              "    [theme=dark] .colab-df-convert {\n",
              "      background-color: #3B4455;\n",
              "      fill: #D2E3FC;\n",
              "    }\n",
              "\n",
              "    [theme=dark] .colab-df-convert:hover {\n",
              "      background-color: #434B5C;\n",
              "      box-shadow: 0px 1px 3px 1px rgba(0, 0, 0, 0.15);\n",
              "      filter: drop-shadow(0px 1px 2px rgba(0, 0, 0, 0.3));\n",
              "      fill: #FFFFFF;\n",
              "    }\n",
              "  </style>\n",
              "\n",
              "    <script>\n",
              "      const buttonEl =\n",
              "        document.querySelector('#df-c027d0ff-36ec-442f-9df4-661c7df58b93 button.colab-df-convert');\n",
              "      buttonEl.style.display =\n",
              "        google.colab.kernel.accessAllowed ? 'block' : 'none';\n",
              "\n",
              "      async function convertToInteractive(key) {\n",
              "        const element = document.querySelector('#df-c027d0ff-36ec-442f-9df4-661c7df58b93');\n",
              "        const dataTable =\n",
              "          await google.colab.kernel.invokeFunction('convertToInteractive',\n",
              "                                                    [key], {});\n",
              "        if (!dataTable) return;\n",
              "\n",
              "        const docLinkHtml = 'Like what you see? Visit the ' +\n",
              "          '<a target=\"_blank\" href=https://colab.research.google.com/notebooks/data_table.ipynb>data table notebook</a>'\n",
              "          + ' to learn more about interactive tables.';\n",
              "        element.innerHTML = '';\n",
              "        dataTable['output_type'] = 'display_data';\n",
              "        await google.colab.output.renderOutput(dataTable, element);\n",
              "        const docLink = document.createElement('div');\n",
              "        docLink.innerHTML = docLinkHtml;\n",
              "        element.appendChild(docLink);\n",
              "      }\n",
              "    </script>\n",
              "  </div>\n",
              "\n",
              "\n",
              "    <div id=\"df-f26fdc54-0a9f-459c-b86d-f39619643876\">\n",
              "      <button class=\"colab-df-quickchart\" onclick=\"quickchart('df-f26fdc54-0a9f-459c-b86d-f39619643876')\"\n",
              "                title=\"Suggest charts\"\n",
              "                style=\"display:none;\">\n",
              "\n",
              "<svg xmlns=\"http://www.w3.org/2000/svg\" height=\"24px\"viewBox=\"0 0 24 24\"\n",
              "     width=\"24px\">\n",
              "    <g>\n",
              "        <path d=\"M19 3H5c-1.1 0-2 .9-2 2v14c0 1.1.9 2 2 2h14c1.1 0 2-.9 2-2V5c0-1.1-.9-2-2-2zM9 17H7v-7h2v7zm4 0h-2V7h2v10zm4 0h-2v-4h2v4z\"/>\n",
              "    </g>\n",
              "</svg>\n",
              "      </button>\n",
              "\n",
              "<style>\n",
              "  .colab-df-quickchart {\n",
              "      --bg-color: #E8F0FE;\n",
              "      --fill-color: #1967D2;\n",
              "      --hover-bg-color: #E2EBFA;\n",
              "      --hover-fill-color: #174EA6;\n",
              "      --disabled-fill-color: #AAA;\n",
              "      --disabled-bg-color: #DDD;\n",
              "  }\n",
              "\n",
              "  [theme=dark] .colab-df-quickchart {\n",
              "      --bg-color: #3B4455;\n",
              "      --fill-color: #D2E3FC;\n",
              "      --hover-bg-color: #434B5C;\n",
              "      --hover-fill-color: #FFFFFF;\n",
              "      --disabled-bg-color: #3B4455;\n",
              "      --disabled-fill-color: #666;\n",
              "  }\n",
              "\n",
              "  .colab-df-quickchart {\n",
              "    background-color: var(--bg-color);\n",
              "    border: none;\n",
              "    border-radius: 50%;\n",
              "    cursor: pointer;\n",
              "    display: none;\n",
              "    fill: var(--fill-color);\n",
              "    height: 32px;\n",
              "    padding: 0;\n",
              "    width: 32px;\n",
              "  }\n",
              "\n",
              "  .colab-df-quickchart:hover {\n",
              "    background-color: var(--hover-bg-color);\n",
              "    box-shadow: 0 1px 2px rgba(60, 64, 67, 0.3), 0 1px 3px 1px rgba(60, 64, 67, 0.15);\n",
              "    fill: var(--button-hover-fill-color);\n",
              "  }\n",
              "\n",
              "  .colab-df-quickchart-complete:disabled,\n",
              "  .colab-df-quickchart-complete:disabled:hover {\n",
              "    background-color: var(--disabled-bg-color);\n",
              "    fill: var(--disabled-fill-color);\n",
              "    box-shadow: none;\n",
              "  }\n",
              "\n",
              "  .colab-df-spinner {\n",
              "    border: 2px solid var(--fill-color);\n",
              "    border-color: transparent;\n",
              "    border-bottom-color: var(--fill-color);\n",
              "    animation:\n",
              "      spin 1s steps(1) infinite;\n",
              "  }\n",
              "\n",
              "  @keyframes spin {\n",
              "    0% {\n",
              "      border-color: transparent;\n",
              "      border-bottom-color: var(--fill-color);\n",
              "      border-left-color: var(--fill-color);\n",
              "    }\n",
              "    20% {\n",
              "      border-color: transparent;\n",
              "      border-left-color: var(--fill-color);\n",
              "      border-top-color: var(--fill-color);\n",
              "    }\n",
              "    30% {\n",
              "      border-color: transparent;\n",
              "      border-left-color: var(--fill-color);\n",
              "      border-top-color: var(--fill-color);\n",
              "      border-right-color: var(--fill-color);\n",
              "    }\n",
              "    40% {\n",
              "      border-color: transparent;\n",
              "      border-right-color: var(--fill-color);\n",
              "      border-top-color: var(--fill-color);\n",
              "    }\n",
              "    60% {\n",
              "      border-color: transparent;\n",
              "      border-right-color: var(--fill-color);\n",
              "    }\n",
              "    80% {\n",
              "      border-color: transparent;\n",
              "      border-right-color: var(--fill-color);\n",
              "      border-bottom-color: var(--fill-color);\n",
              "    }\n",
              "    90% {\n",
              "      border-color: transparent;\n",
              "      border-bottom-color: var(--fill-color);\n",
              "    }\n",
              "  }\n",
              "</style>\n",
              "\n",
              "      <script>\n",
              "        async function quickchart(key) {\n",
              "          const quickchartButtonEl =\n",
              "            document.querySelector('#' + key + ' button');\n",
              "          quickchartButtonEl.disabled = true;  // To prevent multiple clicks.\n",
              "          quickchartButtonEl.classList.add('colab-df-spinner');\n",
              "          try {\n",
              "            const charts = await google.colab.kernel.invokeFunction(\n",
              "                'suggestCharts', [key], {});\n",
              "          } catch (error) {\n",
              "            console.error('Error during call to suggestCharts:', error);\n",
              "          }\n",
              "          quickchartButtonEl.classList.remove('colab-df-spinner');\n",
              "          quickchartButtonEl.classList.add('colab-df-quickchart-complete');\n",
              "        }\n",
              "        (() => {\n",
              "          let quickchartButtonEl =\n",
              "            document.querySelector('#df-f26fdc54-0a9f-459c-b86d-f39619643876 button');\n",
              "          quickchartButtonEl.style.display =\n",
              "            google.colab.kernel.accessAllowed ? 'block' : 'none';\n",
              "        })();\n",
              "      </script>\n",
              "    </div>\n",
              "\n",
              "    </div>\n",
              "  </div>\n"
            ],
            "application/vnd.google.colaboratory.intrinsic+json": {
              "type": "dataframe",
              "variable_name": "data",
              "summary": "{\n  \"name\": \"data\",\n  \"rows\": 1586,\n  \"fields\": [\n    {\n      \"column\": \"Age\",\n      \"properties\": {\n        \"dtype\": \"number\",\n        \"std\": 8,\n        \"min\": 14,\n        \"max\": 120,\n        \"num_unique_values\": 35,\n        \"samples\": [\n          30,\n          42,\n          32\n        ],\n        \"semantic_type\": \"\",\n        \"description\": \"\"\n      }\n    },\n    {\n      \"column\": \"Gender\",\n      \"properties\": {\n        \"dtype\": \"category\",\n        \"num_unique_values\": 4,\n        \"samples\": [\n          \"Femal\",\n          \"Femle\",\n          \"Male\"\n        ],\n        \"semantic_type\": \"\",\n        \"description\": \"\"\n      }\n    },\n    {\n      \"column\": \"Profession\",\n      \"properties\": {\n        \"dtype\": \"category\",\n        \"num_unique_values\": 2,\n        \"samples\": [\n          \"Salaried\",\n          \"Business\"\n        ],\n        \"semantic_type\": \"\",\n        \"description\": \"\"\n      }\n    },\n    {\n      \"column\": \"Marital_status\",\n      \"properties\": {\n        \"dtype\": \"category\",\n        \"num_unique_values\": 2,\n        \"samples\": [\n          \"Single\",\n          \"Married\"\n        ],\n        \"semantic_type\": \"\",\n        \"description\": \"\"\n      }\n    },\n    {\n      \"column\": \"Education\",\n      \"properties\": {\n        \"dtype\": \"category\",\n        \"num_unique_values\": 2,\n        \"samples\": [\n          \"Graduate\",\n          \"Post Graduate\"\n        ],\n        \"semantic_type\": \"\",\n        \"description\": \"\"\n      }\n    },\n    {\n      \"column\": \"No_of_Dependents\",\n      \"properties\": {\n        \"dtype\": \"category\",\n        \"num_unique_values\": 6,\n        \"samples\": [\n          \"4\",\n          \"3\"\n        ],\n        \"semantic_type\": \"\",\n        \"description\": \"\"\n      }\n    },\n    {\n      \"column\": \"Personal_loan\",\n      \"properties\": {\n        \"dtype\": \"category\",\n        \"num_unique_values\": 2,\n        \"samples\": [\n          \"Yes\",\n          \"No\"\n        ],\n        \"semantic_type\": \"\",\n        \"description\": \"\"\n      }\n    },\n    {\n      \"column\": \"House_loan\",\n      \"properties\": {\n        \"dtype\": \"category\",\n        \"num_unique_values\": 2,\n        \"samples\": [\n          \"Yes\",\n          \"No\"\n        ],\n        \"semantic_type\": \"\",\n        \"description\": \"\"\n      }\n    },\n    {\n      \"column\": \"Partner_working\",\n      \"properties\": {\n        \"dtype\": \"category\",\n        \"num_unique_values\": 2,\n        \"samples\": [\n          \"No\",\n          \"Yes\"\n        ],\n        \"semantic_type\": \"\",\n        \"description\": \"\"\n      }\n    },\n    {\n      \"column\": \"Salary\",\n      \"properties\": {\n        \"dtype\": \"number\",\n        \"std\": 14656.106825961077,\n        \"min\": 30000.0,\n        \"max\": 99300.0,\n        \"num_unique_values\": 535,\n        \"samples\": [\n          78600.0,\n          74600.0\n        ],\n        \"semantic_type\": \"\",\n        \"description\": \"\"\n      }\n    },\n    {\n      \"column\": \"Partner_salary\",\n      \"properties\": {\n        \"dtype\": \"number\",\n        \"std\": 19655.84138522211,\n        \"min\": 0.0,\n        \"max\": 80500.0,\n        \"num_unique_values\": 149,\n        \"samples\": [\n          60400.0,\n          40100.0\n        ],\n        \"semantic_type\": \"\",\n        \"description\": \"\"\n      }\n    },\n    {\n      \"column\": \"Total_salary\",\n      \"properties\": {\n        \"dtype\": \"number\",\n        \"std\": 25707,\n        \"min\": 30000,\n        \"max\": 171000,\n        \"num_unique_values\": 754,\n        \"samples\": [\n          69700,\n          125400\n        ],\n        \"semantic_type\": \"\",\n        \"description\": \"\"\n      }\n    },\n    {\n      \"column\": \"Price\",\n      \"properties\": {\n        \"dtype\": \"number\",\n        \"std\": 21168,\n        \"min\": 58,\n        \"max\": 680000,\n        \"num_unique_values\": 55,\n        \"samples\": [\n          40000,\n          63000\n        ],\n        \"semantic_type\": \"\",\n        \"description\": \"\"\n      }\n    },\n    {\n      \"column\": \"Make\",\n      \"properties\": {\n        \"dtype\": \"category\",\n        \"num_unique_values\": 4,\n        \"samples\": [\n          \"?\",\n          \"Hatchback\"\n        ],\n        \"semantic_type\": \"\",\n        \"description\": \"\"\n      }\n    }\n  ]\n}"
            }
          },
          "metadata": {},
          "execution_count": 72
        }
      ]
    },
    {
      "cell_type": "markdown",
      "source": [
        "2-Display the last 5 rows"
      ],
      "metadata": {
        "id": "V08KK6ThcY8i"
      }
    },
    {
      "cell_type": "code",
      "source": [
        "data.tail()"
      ],
      "metadata": {
        "colab": {
          "base_uri": "https://localhost:8080/",
          "height": 226
        },
        "id": "L1YjvysqMk-H",
        "outputId": "faccc790-5e6a-430c-9232-b177677520bf"
      },
      "execution_count": null,
      "outputs": [
        {
          "output_type": "execute_result",
          "data": {
            "text/plain": [
              "      Age Gender Profession Marital_status Education No_of_Dependents  \\\n",
              "1581   22   Male   Salaried         Single  Graduate                2   \n",
              "1582   22   Male   Business        Married  Graduate                4   \n",
              "1583   22   Male   Business         Single  Graduate                2   \n",
              "1584   22   Male   Business        Married  Graduate                3   \n",
              "1585   22   Male   Salaried        Married  Graduate                4   \n",
              "\n",
              "     Personal_loan House_loan Partner_working   Salary  Partner_salary  \\\n",
              "1581            No        Yes              No  33300.0             0.0   \n",
              "1582            No         No              No  32000.0             NaN   \n",
              "1583            No        Yes              No  32900.0             0.0   \n",
              "1584           Yes        Yes              No  32200.0             NaN   \n",
              "1585            No         No              No  31600.0             0.0   \n",
              "\n",
              "      Total_salary  Price       Make  \n",
              "1581         33300  27000  Hatchback  \n",
              "1582         32000  31000  Hatchback  \n",
              "1583         32900  30000  Hatchback  \n",
              "1584         32200  24000  Hatchback  \n",
              "1585         31600  31000  Hatchback  "
            ],
            "text/html": [
              "\n",
              "  <div id=\"df-3e56d437-2483-4fcd-a4d3-2a73e28fd0b2\" class=\"colab-df-container\">\n",
              "    <div>\n",
              "<style scoped>\n",
              "    .dataframe tbody tr th:only-of-type {\n",
              "        vertical-align: middle;\n",
              "    }\n",
              "\n",
              "    .dataframe tbody tr th {\n",
              "        vertical-align: top;\n",
              "    }\n",
              "\n",
              "    .dataframe thead th {\n",
              "        text-align: right;\n",
              "    }\n",
              "</style>\n",
              "<table border=\"1\" class=\"dataframe\">\n",
              "  <thead>\n",
              "    <tr style=\"text-align: right;\">\n",
              "      <th></th>\n",
              "      <th>Age</th>\n",
              "      <th>Gender</th>\n",
              "      <th>Profession</th>\n",
              "      <th>Marital_status</th>\n",
              "      <th>Education</th>\n",
              "      <th>No_of_Dependents</th>\n",
              "      <th>Personal_loan</th>\n",
              "      <th>House_loan</th>\n",
              "      <th>Partner_working</th>\n",
              "      <th>Salary</th>\n",
              "      <th>Partner_salary</th>\n",
              "      <th>Total_salary</th>\n",
              "      <th>Price</th>\n",
              "      <th>Make</th>\n",
              "    </tr>\n",
              "  </thead>\n",
              "  <tbody>\n",
              "    <tr>\n",
              "      <th>1581</th>\n",
              "      <td>22</td>\n",
              "      <td>Male</td>\n",
              "      <td>Salaried</td>\n",
              "      <td>Single</td>\n",
              "      <td>Graduate</td>\n",
              "      <td>2</td>\n",
              "      <td>No</td>\n",
              "      <td>Yes</td>\n",
              "      <td>No</td>\n",
              "      <td>33300.0</td>\n",
              "      <td>0.0</td>\n",
              "      <td>33300</td>\n",
              "      <td>27000</td>\n",
              "      <td>Hatchback</td>\n",
              "    </tr>\n",
              "    <tr>\n",
              "      <th>1582</th>\n",
              "      <td>22</td>\n",
              "      <td>Male</td>\n",
              "      <td>Business</td>\n",
              "      <td>Married</td>\n",
              "      <td>Graduate</td>\n",
              "      <td>4</td>\n",
              "      <td>No</td>\n",
              "      <td>No</td>\n",
              "      <td>No</td>\n",
              "      <td>32000.0</td>\n",
              "      <td>NaN</td>\n",
              "      <td>32000</td>\n",
              "      <td>31000</td>\n",
              "      <td>Hatchback</td>\n",
              "    </tr>\n",
              "    <tr>\n",
              "      <th>1583</th>\n",
              "      <td>22</td>\n",
              "      <td>Male</td>\n",
              "      <td>Business</td>\n",
              "      <td>Single</td>\n",
              "      <td>Graduate</td>\n",
              "      <td>2</td>\n",
              "      <td>No</td>\n",
              "      <td>Yes</td>\n",
              "      <td>No</td>\n",
              "      <td>32900.0</td>\n",
              "      <td>0.0</td>\n",
              "      <td>32900</td>\n",
              "      <td>30000</td>\n",
              "      <td>Hatchback</td>\n",
              "    </tr>\n",
              "    <tr>\n",
              "      <th>1584</th>\n",
              "      <td>22</td>\n",
              "      <td>Male</td>\n",
              "      <td>Business</td>\n",
              "      <td>Married</td>\n",
              "      <td>Graduate</td>\n",
              "      <td>3</td>\n",
              "      <td>Yes</td>\n",
              "      <td>Yes</td>\n",
              "      <td>No</td>\n",
              "      <td>32200.0</td>\n",
              "      <td>NaN</td>\n",
              "      <td>32200</td>\n",
              "      <td>24000</td>\n",
              "      <td>Hatchback</td>\n",
              "    </tr>\n",
              "    <tr>\n",
              "      <th>1585</th>\n",
              "      <td>22</td>\n",
              "      <td>Male</td>\n",
              "      <td>Salaried</td>\n",
              "      <td>Married</td>\n",
              "      <td>Graduate</td>\n",
              "      <td>4</td>\n",
              "      <td>No</td>\n",
              "      <td>No</td>\n",
              "      <td>No</td>\n",
              "      <td>31600.0</td>\n",
              "      <td>0.0</td>\n",
              "      <td>31600</td>\n",
              "      <td>31000</td>\n",
              "      <td>Hatchback</td>\n",
              "    </tr>\n",
              "  </tbody>\n",
              "</table>\n",
              "</div>\n",
              "    <div class=\"colab-df-buttons\">\n",
              "\n",
              "  <div class=\"colab-df-container\">\n",
              "    <button class=\"colab-df-convert\" onclick=\"convertToInteractive('df-3e56d437-2483-4fcd-a4d3-2a73e28fd0b2')\"\n",
              "            title=\"Convert this dataframe to an interactive table.\"\n",
              "            style=\"display:none;\">\n",
              "\n",
              "  <svg xmlns=\"http://www.w3.org/2000/svg\" height=\"24px\" viewBox=\"0 -960 960 960\">\n",
              "    <path d=\"M120-120v-720h720v720H120Zm60-500h600v-160H180v160Zm220 220h160v-160H400v160Zm0 220h160v-160H400v160ZM180-400h160v-160H180v160Zm440 0h160v-160H620v160ZM180-180h160v-160H180v160Zm440 0h160v-160H620v160Z\"/>\n",
              "  </svg>\n",
              "    </button>\n",
              "\n",
              "  <style>\n",
              "    .colab-df-container {\n",
              "      display:flex;\n",
              "      gap: 12px;\n",
              "    }\n",
              "\n",
              "    .colab-df-convert {\n",
              "      background-color: #E8F0FE;\n",
              "      border: none;\n",
              "      border-radius: 50%;\n",
              "      cursor: pointer;\n",
              "      display: none;\n",
              "      fill: #1967D2;\n",
              "      height: 32px;\n",
              "      padding: 0 0 0 0;\n",
              "      width: 32px;\n",
              "    }\n",
              "\n",
              "    .colab-df-convert:hover {\n",
              "      background-color: #E2EBFA;\n",
              "      box-shadow: 0px 1px 2px rgba(60, 64, 67, 0.3), 0px 1px 3px 1px rgba(60, 64, 67, 0.15);\n",
              "      fill: #174EA6;\n",
              "    }\n",
              "\n",
              "    .colab-df-buttons div {\n",
              "      margin-bottom: 4px;\n",
              "    }\n",
              "\n",
              "    [theme=dark] .colab-df-convert {\n",
              "      background-color: #3B4455;\n",
              "      fill: #D2E3FC;\n",
              "    }\n",
              "\n",
              "    [theme=dark] .colab-df-convert:hover {\n",
              "      background-color: #434B5C;\n",
              "      box-shadow: 0px 1px 3px 1px rgba(0, 0, 0, 0.15);\n",
              "      filter: drop-shadow(0px 1px 2px rgba(0, 0, 0, 0.3));\n",
              "      fill: #FFFFFF;\n",
              "    }\n",
              "  </style>\n",
              "\n",
              "    <script>\n",
              "      const buttonEl =\n",
              "        document.querySelector('#df-3e56d437-2483-4fcd-a4d3-2a73e28fd0b2 button.colab-df-convert');\n",
              "      buttonEl.style.display =\n",
              "        google.colab.kernel.accessAllowed ? 'block' : 'none';\n",
              "\n",
              "      async function convertToInteractive(key) {\n",
              "        const element = document.querySelector('#df-3e56d437-2483-4fcd-a4d3-2a73e28fd0b2');\n",
              "        const dataTable =\n",
              "          await google.colab.kernel.invokeFunction('convertToInteractive',\n",
              "                                                    [key], {});\n",
              "        if (!dataTable) return;\n",
              "\n",
              "        const docLinkHtml = 'Like what you see? Visit the ' +\n",
              "          '<a target=\"_blank\" href=https://colab.research.google.com/notebooks/data_table.ipynb>data table notebook</a>'\n",
              "          + ' to learn more about interactive tables.';\n",
              "        element.innerHTML = '';\n",
              "        dataTable['output_type'] = 'display_data';\n",
              "        await google.colab.output.renderOutput(dataTable, element);\n",
              "        const docLink = document.createElement('div');\n",
              "        docLink.innerHTML = docLinkHtml;\n",
              "        element.appendChild(docLink);\n",
              "      }\n",
              "    </script>\n",
              "  </div>\n",
              "\n",
              "\n",
              "    <div id=\"df-61211046-9101-4939-9e60-108c4f49841b\">\n",
              "      <button class=\"colab-df-quickchart\" onclick=\"quickchart('df-61211046-9101-4939-9e60-108c4f49841b')\"\n",
              "                title=\"Suggest charts\"\n",
              "                style=\"display:none;\">\n",
              "\n",
              "<svg xmlns=\"http://www.w3.org/2000/svg\" height=\"24px\"viewBox=\"0 0 24 24\"\n",
              "     width=\"24px\">\n",
              "    <g>\n",
              "        <path d=\"M19 3H5c-1.1 0-2 .9-2 2v14c0 1.1.9 2 2 2h14c1.1 0 2-.9 2-2V5c0-1.1-.9-2-2-2zM9 17H7v-7h2v7zm4 0h-2V7h2v10zm4 0h-2v-4h2v4z\"/>\n",
              "    </g>\n",
              "</svg>\n",
              "      </button>\n",
              "\n",
              "<style>\n",
              "  .colab-df-quickchart {\n",
              "      --bg-color: #E8F0FE;\n",
              "      --fill-color: #1967D2;\n",
              "      --hover-bg-color: #E2EBFA;\n",
              "      --hover-fill-color: #174EA6;\n",
              "      --disabled-fill-color: #AAA;\n",
              "      --disabled-bg-color: #DDD;\n",
              "  }\n",
              "\n",
              "  [theme=dark] .colab-df-quickchart {\n",
              "      --bg-color: #3B4455;\n",
              "      --fill-color: #D2E3FC;\n",
              "      --hover-bg-color: #434B5C;\n",
              "      --hover-fill-color: #FFFFFF;\n",
              "      --disabled-bg-color: #3B4455;\n",
              "      --disabled-fill-color: #666;\n",
              "  }\n",
              "\n",
              "  .colab-df-quickchart {\n",
              "    background-color: var(--bg-color);\n",
              "    border: none;\n",
              "    border-radius: 50%;\n",
              "    cursor: pointer;\n",
              "    display: none;\n",
              "    fill: var(--fill-color);\n",
              "    height: 32px;\n",
              "    padding: 0;\n",
              "    width: 32px;\n",
              "  }\n",
              "\n",
              "  .colab-df-quickchart:hover {\n",
              "    background-color: var(--hover-bg-color);\n",
              "    box-shadow: 0 1px 2px rgba(60, 64, 67, 0.3), 0 1px 3px 1px rgba(60, 64, 67, 0.15);\n",
              "    fill: var(--button-hover-fill-color);\n",
              "  }\n",
              "\n",
              "  .colab-df-quickchart-complete:disabled,\n",
              "  .colab-df-quickchart-complete:disabled:hover {\n",
              "    background-color: var(--disabled-bg-color);\n",
              "    fill: var(--disabled-fill-color);\n",
              "    box-shadow: none;\n",
              "  }\n",
              "\n",
              "  .colab-df-spinner {\n",
              "    border: 2px solid var(--fill-color);\n",
              "    border-color: transparent;\n",
              "    border-bottom-color: var(--fill-color);\n",
              "    animation:\n",
              "      spin 1s steps(1) infinite;\n",
              "  }\n",
              "\n",
              "  @keyframes spin {\n",
              "    0% {\n",
              "      border-color: transparent;\n",
              "      border-bottom-color: var(--fill-color);\n",
              "      border-left-color: var(--fill-color);\n",
              "    }\n",
              "    20% {\n",
              "      border-color: transparent;\n",
              "      border-left-color: var(--fill-color);\n",
              "      border-top-color: var(--fill-color);\n",
              "    }\n",
              "    30% {\n",
              "      border-color: transparent;\n",
              "      border-left-color: var(--fill-color);\n",
              "      border-top-color: var(--fill-color);\n",
              "      border-right-color: var(--fill-color);\n",
              "    }\n",
              "    40% {\n",
              "      border-color: transparent;\n",
              "      border-right-color: var(--fill-color);\n",
              "      border-top-color: var(--fill-color);\n",
              "    }\n",
              "    60% {\n",
              "      border-color: transparent;\n",
              "      border-right-color: var(--fill-color);\n",
              "    }\n",
              "    80% {\n",
              "      border-color: transparent;\n",
              "      border-right-color: var(--fill-color);\n",
              "      border-bottom-color: var(--fill-color);\n",
              "    }\n",
              "    90% {\n",
              "      border-color: transparent;\n",
              "      border-bottom-color: var(--fill-color);\n",
              "    }\n",
              "  }\n",
              "</style>\n",
              "\n",
              "      <script>\n",
              "        async function quickchart(key) {\n",
              "          const quickchartButtonEl =\n",
              "            document.querySelector('#' + key + ' button');\n",
              "          quickchartButtonEl.disabled = true;  // To prevent multiple clicks.\n",
              "          quickchartButtonEl.classList.add('colab-df-spinner');\n",
              "          try {\n",
              "            const charts = await google.colab.kernel.invokeFunction(\n",
              "                'suggestCharts', [key], {});\n",
              "          } catch (error) {\n",
              "            console.error('Error during call to suggestCharts:', error);\n",
              "          }\n",
              "          quickchartButtonEl.classList.remove('colab-df-spinner');\n",
              "          quickchartButtonEl.classList.add('colab-df-quickchart-complete');\n",
              "        }\n",
              "        (() => {\n",
              "          let quickchartButtonEl =\n",
              "            document.querySelector('#df-61211046-9101-4939-9e60-108c4f49841b button');\n",
              "          quickchartButtonEl.style.display =\n",
              "            google.colab.kernel.accessAllowed ? 'block' : 'none';\n",
              "        })();\n",
              "      </script>\n",
              "    </div>\n",
              "\n",
              "    </div>\n",
              "  </div>\n"
            ],
            "application/vnd.google.colaboratory.intrinsic+json": {
              "type": "dataframe",
              "summary": "{\n  \"name\": \"data\",\n  \"rows\": 5,\n  \"fields\": [\n    {\n      \"column\": \"Age\",\n      \"properties\": {\n        \"dtype\": \"number\",\n        \"std\": 0,\n        \"min\": 22,\n        \"max\": 22,\n        \"num_unique_values\": 1,\n        \"samples\": [\n          22\n        ],\n        \"semantic_type\": \"\",\n        \"description\": \"\"\n      }\n    },\n    {\n      \"column\": \"Gender\",\n      \"properties\": {\n        \"dtype\": \"category\",\n        \"num_unique_values\": 1,\n        \"samples\": [\n          \"Male\"\n        ],\n        \"semantic_type\": \"\",\n        \"description\": \"\"\n      }\n    },\n    {\n      \"column\": \"Profession\",\n      \"properties\": {\n        \"dtype\": \"category\",\n        \"num_unique_values\": 2,\n        \"samples\": [\n          \"Business\"\n        ],\n        \"semantic_type\": \"\",\n        \"description\": \"\"\n      }\n    },\n    {\n      \"column\": \"Marital_status\",\n      \"properties\": {\n        \"dtype\": \"category\",\n        \"num_unique_values\": 2,\n        \"samples\": [\n          \"Married\"\n        ],\n        \"semantic_type\": \"\",\n        \"description\": \"\"\n      }\n    },\n    {\n      \"column\": \"Education\",\n      \"properties\": {\n        \"dtype\": \"category\",\n        \"num_unique_values\": 1,\n        \"samples\": [\n          \"Graduate\"\n        ],\n        \"semantic_type\": \"\",\n        \"description\": \"\"\n      }\n    },\n    {\n      \"column\": \"No_of_Dependents\",\n      \"properties\": {\n        \"dtype\": \"string\",\n        \"num_unique_values\": 3,\n        \"samples\": [\n          \"2\"\n        ],\n        \"semantic_type\": \"\",\n        \"description\": \"\"\n      }\n    },\n    {\n      \"column\": \"Personal_loan\",\n      \"properties\": {\n        \"dtype\": \"category\",\n        \"num_unique_values\": 2,\n        \"samples\": [\n          \"Yes\"\n        ],\n        \"semantic_type\": \"\",\n        \"description\": \"\"\n      }\n    },\n    {\n      \"column\": \"House_loan\",\n      \"properties\": {\n        \"dtype\": \"category\",\n        \"num_unique_values\": 2,\n        \"samples\": [\n          \"No\"\n        ],\n        \"semantic_type\": \"\",\n        \"description\": \"\"\n      }\n    },\n    {\n      \"column\": \"Partner_working\",\n      \"properties\": {\n        \"dtype\": \"category\",\n        \"num_unique_values\": 1,\n        \"samples\": [\n          \"No\"\n        ],\n        \"semantic_type\": \"\",\n        \"description\": \"\"\n      }\n    },\n    {\n      \"column\": \"Salary\",\n      \"properties\": {\n        \"dtype\": \"number\",\n        \"std\": 689.202437604511,\n        \"min\": 31600.0,\n        \"max\": 33300.0,\n        \"num_unique_values\": 5,\n        \"samples\": [\n          32000.0\n        ],\n        \"semantic_type\": \"\",\n        \"description\": \"\"\n      }\n    },\n    {\n      \"column\": \"Partner_salary\",\n      \"properties\": {\n        \"dtype\": \"number\",\n        \"std\": 0.0,\n        \"min\": 0.0,\n        \"max\": 0.0,\n        \"num_unique_values\": 1,\n        \"samples\": [\n          0.0\n        ],\n        \"semantic_type\": \"\",\n        \"description\": \"\"\n      }\n    },\n    {\n      \"column\": \"Total_salary\",\n      \"properties\": {\n        \"dtype\": \"number\",\n        \"std\": 689,\n        \"min\": 31600,\n        \"max\": 33300,\n        \"num_unique_values\": 5,\n        \"samples\": [\n          32000\n        ],\n        \"semantic_type\": \"\",\n        \"description\": \"\"\n      }\n    },\n    {\n      \"column\": \"Price\",\n      \"properties\": {\n        \"dtype\": \"number\",\n        \"std\": 3049,\n        \"min\": 24000,\n        \"max\": 31000,\n        \"num_unique_values\": 4,\n        \"samples\": [\n          31000\n        ],\n        \"semantic_type\": \"\",\n        \"description\": \"\"\n      }\n    },\n    {\n      \"column\": \"Make\",\n      \"properties\": {\n        \"dtype\": \"category\",\n        \"num_unique_values\": 1,\n        \"samples\": [\n          \"Hatchback\"\n        ],\n        \"semantic_type\": \"\",\n        \"description\": \"\"\n      }\n    }\n  ]\n}"
            }
          },
          "metadata": {},
          "execution_count": 73
        }
      ]
    },
    {
      "cell_type": "markdown",
      "source": [
        "3-Check the shape of dataset."
      ],
      "metadata": {
        "id": "zmH099KEccX1"
      }
    },
    {
      "cell_type": "code",
      "source": [
        "data.shape"
      ],
      "metadata": {
        "colab": {
          "base_uri": "https://localhost:8080/"
        },
        "id": "iuUItQtvcee_",
        "outputId": "50936d02-7c57-41da-d2bc-a029722c2851"
      },
      "execution_count": null,
      "outputs": [
        {
          "output_type": "execute_result",
          "data": {
            "text/plain": [
              "(1586, 14)"
            ]
          },
          "metadata": {},
          "execution_count": 74
        }
      ]
    },
    {
      "cell_type": "markdown",
      "source": [
        "4-Check the datatypes of each feature."
      ],
      "metadata": {
        "id": "ufodOou0csiv"
      }
    },
    {
      "cell_type": "code",
      "source": [
        "data.dtypes"
      ],
      "metadata": {
        "colab": {
          "base_uri": "https://localhost:8080/",
          "height": 523
        },
        "id": "Jwio0nBrcurt",
        "outputId": "59c877cc-d51d-4b52-aa46-fef96afd9a6f"
      },
      "execution_count": null,
      "outputs": [
        {
          "output_type": "execute_result",
          "data": {
            "text/plain": [
              "Age                   int64\n",
              "Gender               object\n",
              "Profession           object\n",
              "Marital_status       object\n",
              "Education            object\n",
              "No_of_Dependents     object\n",
              "Personal_loan        object\n",
              "House_loan           object\n",
              "Partner_working      object\n",
              "Salary              float64\n",
              "Partner_salary      float64\n",
              "Total_salary          int64\n",
              "Price                 int64\n",
              "Make                 object\n",
              "dtype: object"
            ],
            "text/html": [
              "<div>\n",
              "<style scoped>\n",
              "    .dataframe tbody tr th:only-of-type {\n",
              "        vertical-align: middle;\n",
              "    }\n",
              "\n",
              "    .dataframe tbody tr th {\n",
              "        vertical-align: top;\n",
              "    }\n",
              "\n",
              "    .dataframe thead th {\n",
              "        text-align: right;\n",
              "    }\n",
              "</style>\n",
              "<table border=\"1\" class=\"dataframe\">\n",
              "  <thead>\n",
              "    <tr style=\"text-align: right;\">\n",
              "      <th></th>\n",
              "      <th>0</th>\n",
              "    </tr>\n",
              "  </thead>\n",
              "  <tbody>\n",
              "    <tr>\n",
              "      <th>Age</th>\n",
              "      <td>int64</td>\n",
              "    </tr>\n",
              "    <tr>\n",
              "      <th>Gender</th>\n",
              "      <td>object</td>\n",
              "    </tr>\n",
              "    <tr>\n",
              "      <th>Profession</th>\n",
              "      <td>object</td>\n",
              "    </tr>\n",
              "    <tr>\n",
              "      <th>Marital_status</th>\n",
              "      <td>object</td>\n",
              "    </tr>\n",
              "    <tr>\n",
              "      <th>Education</th>\n",
              "      <td>object</td>\n",
              "    </tr>\n",
              "    <tr>\n",
              "      <th>No_of_Dependents</th>\n",
              "      <td>object</td>\n",
              "    </tr>\n",
              "    <tr>\n",
              "      <th>Personal_loan</th>\n",
              "      <td>object</td>\n",
              "    </tr>\n",
              "    <tr>\n",
              "      <th>House_loan</th>\n",
              "      <td>object</td>\n",
              "    </tr>\n",
              "    <tr>\n",
              "      <th>Partner_working</th>\n",
              "      <td>object</td>\n",
              "    </tr>\n",
              "    <tr>\n",
              "      <th>Salary</th>\n",
              "      <td>float64</td>\n",
              "    </tr>\n",
              "    <tr>\n",
              "      <th>Partner_salary</th>\n",
              "      <td>float64</td>\n",
              "    </tr>\n",
              "    <tr>\n",
              "      <th>Total_salary</th>\n",
              "      <td>int64</td>\n",
              "    </tr>\n",
              "    <tr>\n",
              "      <th>Price</th>\n",
              "      <td>int64</td>\n",
              "    </tr>\n",
              "    <tr>\n",
              "      <th>Make</th>\n",
              "      <td>object</td>\n",
              "    </tr>\n",
              "  </tbody>\n",
              "</table>\n",
              "</div><br><label><b>dtype:</b> object</label>"
            ]
          },
          "metadata": {},
          "execution_count": 75
        }
      ]
    },
    {
      "cell_type": "markdown",
      "source": [
        "##**Observations** :\n",
        "The \"No_of_Dependents\"  is object instead of a numerical value"
      ],
      "metadata": {
        "id": "2EN_qZyQFV9I"
      }
    },
    {
      "cell_type": "code",
      "source": [
        "data['No_of_Dependents'] = data['No_of_Dependents'].replace('?', np.nan)\n",
        "data['Make'] = data['Make'].replace('?', np.nan)\n",
        "\n",
        "# Convert to numeric (optional double-casting)\n",
        "data['No_of_Dependents'] = data['No_of_Dependents'].astype(float).astype('Int64')"
      ],
      "metadata": {
        "id": "1319icgKG1RU"
      },
      "execution_count": null,
      "outputs": []
    },
    {
      "cell_type": "code",
      "source": [
        "print(data['No_of_Dependents'].unique())\n"
      ],
      "metadata": {
        "colab": {
          "base_uri": "https://localhost:8080/"
        },
        "id": "4ZxnHx7KZ5we",
        "outputId": "e4e1c27b-8422-4cca-95ca-9036c4b54493"
      },
      "execution_count": null,
      "outputs": [
        {
          "output_type": "stream",
          "name": "stdout",
          "text": [
            "<IntegerArray>\n",
            "[4, 3, <NA>, 2, 1, 0]\n",
            "Length: 6, dtype: Int64\n"
          ]
        }
      ]
    },
    {
      "cell_type": "code",
      "source": [
        "data['No_of_Dependents'] = pd.to_numeric(data['No_of_Dependents'], errors='coerce')\n",
        "\n",
        "data_cleaned = data.dropna(subset=['No_of_Dependents'])"
      ],
      "metadata": {
        "id": "6s3o2iZXZ_jU"
      },
      "execution_count": null,
      "outputs": []
    },
    {
      "cell_type": "markdown",
      "source": [
        "5-Check the Statistical summary"
      ],
      "metadata": {
        "id": "7v7yW_zqdBOL"
      }
    },
    {
      "cell_type": "code",
      "source": [
        "data.describe()"
      ],
      "metadata": {
        "colab": {
          "base_uri": "https://localhost:8080/",
          "height": 300
        },
        "id": "tC1ygmm4dDin",
        "outputId": "04e335ed-f441-4a7b-d77e-3d0588ec382b"
      },
      "execution_count": null,
      "outputs": [
        {
          "output_type": "execute_result",
          "data": {
            "text/plain": [
              "               Age  No_of_Dependents        Salary  Partner_salary  \\\n",
              "count  1586.000000            1584.0   1573.000000     1480.000000   \n",
              "mean     32.018916          2.458965  60340.368722    20348.513514   \n",
              "std       8.778502          0.942213  14656.106826    19655.841385   \n",
              "min      14.000000               0.0  30000.000000        0.000000   \n",
              "25%      25.000000               2.0  51900.000000        0.000000   \n",
              "50%      29.000000               2.0  59500.000000    25700.000000   \n",
              "75%      38.000000               3.0  71800.000000    38300.000000   \n",
              "max     120.000000               4.0  99300.000000    80500.000000   \n",
              "\n",
              "        Total_salary          Price  \n",
              "count    1586.000000    1586.000000  \n",
              "mean    79806.431274   36006.972257  \n",
              "std     25707.764534   21168.286950  \n",
              "min     30000.000000      58.000000  \n",
              "25%     60500.000000   25000.000000  \n",
              "50%     78050.000000   31000.000000  \n",
              "75%     95975.000000   47000.000000  \n",
              "max    171000.000000  680000.000000  "
            ],
            "text/html": [
              "\n",
              "  <div id=\"df-9cca8640-bd0b-4047-938f-aec70a5a4ac5\" class=\"colab-df-container\">\n",
              "    <div>\n",
              "<style scoped>\n",
              "    .dataframe tbody tr th:only-of-type {\n",
              "        vertical-align: middle;\n",
              "    }\n",
              "\n",
              "    .dataframe tbody tr th {\n",
              "        vertical-align: top;\n",
              "    }\n",
              "\n",
              "    .dataframe thead th {\n",
              "        text-align: right;\n",
              "    }\n",
              "</style>\n",
              "<table border=\"1\" class=\"dataframe\">\n",
              "  <thead>\n",
              "    <tr style=\"text-align: right;\">\n",
              "      <th></th>\n",
              "      <th>Age</th>\n",
              "      <th>No_of_Dependents</th>\n",
              "      <th>Salary</th>\n",
              "      <th>Partner_salary</th>\n",
              "      <th>Total_salary</th>\n",
              "      <th>Price</th>\n",
              "    </tr>\n",
              "  </thead>\n",
              "  <tbody>\n",
              "    <tr>\n",
              "      <th>count</th>\n",
              "      <td>1586.000000</td>\n",
              "      <td>1584.0</td>\n",
              "      <td>1573.000000</td>\n",
              "      <td>1480.000000</td>\n",
              "      <td>1586.000000</td>\n",
              "      <td>1586.000000</td>\n",
              "    </tr>\n",
              "    <tr>\n",
              "      <th>mean</th>\n",
              "      <td>32.018916</td>\n",
              "      <td>2.458965</td>\n",
              "      <td>60340.368722</td>\n",
              "      <td>20348.513514</td>\n",
              "      <td>79806.431274</td>\n",
              "      <td>36006.972257</td>\n",
              "    </tr>\n",
              "    <tr>\n",
              "      <th>std</th>\n",
              "      <td>8.778502</td>\n",
              "      <td>0.942213</td>\n",
              "      <td>14656.106826</td>\n",
              "      <td>19655.841385</td>\n",
              "      <td>25707.764534</td>\n",
              "      <td>21168.286950</td>\n",
              "    </tr>\n",
              "    <tr>\n",
              "      <th>min</th>\n",
              "      <td>14.000000</td>\n",
              "      <td>0.0</td>\n",
              "      <td>30000.000000</td>\n",
              "      <td>0.000000</td>\n",
              "      <td>30000.000000</td>\n",
              "      <td>58.000000</td>\n",
              "    </tr>\n",
              "    <tr>\n",
              "      <th>25%</th>\n",
              "      <td>25.000000</td>\n",
              "      <td>2.0</td>\n",
              "      <td>51900.000000</td>\n",
              "      <td>0.000000</td>\n",
              "      <td>60500.000000</td>\n",
              "      <td>25000.000000</td>\n",
              "    </tr>\n",
              "    <tr>\n",
              "      <th>50%</th>\n",
              "      <td>29.000000</td>\n",
              "      <td>2.0</td>\n",
              "      <td>59500.000000</td>\n",
              "      <td>25700.000000</td>\n",
              "      <td>78050.000000</td>\n",
              "      <td>31000.000000</td>\n",
              "    </tr>\n",
              "    <tr>\n",
              "      <th>75%</th>\n",
              "      <td>38.000000</td>\n",
              "      <td>3.0</td>\n",
              "      <td>71800.000000</td>\n",
              "      <td>38300.000000</td>\n",
              "      <td>95975.000000</td>\n",
              "      <td>47000.000000</td>\n",
              "    </tr>\n",
              "    <tr>\n",
              "      <th>max</th>\n",
              "      <td>120.000000</td>\n",
              "      <td>4.0</td>\n",
              "      <td>99300.000000</td>\n",
              "      <td>80500.000000</td>\n",
              "      <td>171000.000000</td>\n",
              "      <td>680000.000000</td>\n",
              "    </tr>\n",
              "  </tbody>\n",
              "</table>\n",
              "</div>\n",
              "    <div class=\"colab-df-buttons\">\n",
              "\n",
              "  <div class=\"colab-df-container\">\n",
              "    <button class=\"colab-df-convert\" onclick=\"convertToInteractive('df-9cca8640-bd0b-4047-938f-aec70a5a4ac5')\"\n",
              "            title=\"Convert this dataframe to an interactive table.\"\n",
              "            style=\"display:none;\">\n",
              "\n",
              "  <svg xmlns=\"http://www.w3.org/2000/svg\" height=\"24px\" viewBox=\"0 -960 960 960\">\n",
              "    <path d=\"M120-120v-720h720v720H120Zm60-500h600v-160H180v160Zm220 220h160v-160H400v160Zm0 220h160v-160H400v160ZM180-400h160v-160H180v160Zm440 0h160v-160H620v160ZM180-180h160v-160H180v160Zm440 0h160v-160H620v160Z\"/>\n",
              "  </svg>\n",
              "    </button>\n",
              "\n",
              "  <style>\n",
              "    .colab-df-container {\n",
              "      display:flex;\n",
              "      gap: 12px;\n",
              "    }\n",
              "\n",
              "    .colab-df-convert {\n",
              "      background-color: #E8F0FE;\n",
              "      border: none;\n",
              "      border-radius: 50%;\n",
              "      cursor: pointer;\n",
              "      display: none;\n",
              "      fill: #1967D2;\n",
              "      height: 32px;\n",
              "      padding: 0 0 0 0;\n",
              "      width: 32px;\n",
              "    }\n",
              "\n",
              "    .colab-df-convert:hover {\n",
              "      background-color: #E2EBFA;\n",
              "      box-shadow: 0px 1px 2px rgba(60, 64, 67, 0.3), 0px 1px 3px 1px rgba(60, 64, 67, 0.15);\n",
              "      fill: #174EA6;\n",
              "    }\n",
              "\n",
              "    .colab-df-buttons div {\n",
              "      margin-bottom: 4px;\n",
              "    }\n",
              "\n",
              "    [theme=dark] .colab-df-convert {\n",
              "      background-color: #3B4455;\n",
              "      fill: #D2E3FC;\n",
              "    }\n",
              "\n",
              "    [theme=dark] .colab-df-convert:hover {\n",
              "      background-color: #434B5C;\n",
              "      box-shadow: 0px 1px 3px 1px rgba(0, 0, 0, 0.15);\n",
              "      filter: drop-shadow(0px 1px 2px rgba(0, 0, 0, 0.3));\n",
              "      fill: #FFFFFF;\n",
              "    }\n",
              "  </style>\n",
              "\n",
              "    <script>\n",
              "      const buttonEl =\n",
              "        document.querySelector('#df-9cca8640-bd0b-4047-938f-aec70a5a4ac5 button.colab-df-convert');\n",
              "      buttonEl.style.display =\n",
              "        google.colab.kernel.accessAllowed ? 'block' : 'none';\n",
              "\n",
              "      async function convertToInteractive(key) {\n",
              "        const element = document.querySelector('#df-9cca8640-bd0b-4047-938f-aec70a5a4ac5');\n",
              "        const dataTable =\n",
              "          await google.colab.kernel.invokeFunction('convertToInteractive',\n",
              "                                                    [key], {});\n",
              "        if (!dataTable) return;\n",
              "\n",
              "        const docLinkHtml = 'Like what you see? Visit the ' +\n",
              "          '<a target=\"_blank\" href=https://colab.research.google.com/notebooks/data_table.ipynb>data table notebook</a>'\n",
              "          + ' to learn more about interactive tables.';\n",
              "        element.innerHTML = '';\n",
              "        dataTable['output_type'] = 'display_data';\n",
              "        await google.colab.output.renderOutput(dataTable, element);\n",
              "        const docLink = document.createElement('div');\n",
              "        docLink.innerHTML = docLinkHtml;\n",
              "        element.appendChild(docLink);\n",
              "      }\n",
              "    </script>\n",
              "  </div>\n",
              "\n",
              "\n",
              "    <div id=\"df-6516e7c1-5ce4-419d-a91c-ac9ff8cc6c0b\">\n",
              "      <button class=\"colab-df-quickchart\" onclick=\"quickchart('df-6516e7c1-5ce4-419d-a91c-ac9ff8cc6c0b')\"\n",
              "                title=\"Suggest charts\"\n",
              "                style=\"display:none;\">\n",
              "\n",
              "<svg xmlns=\"http://www.w3.org/2000/svg\" height=\"24px\"viewBox=\"0 0 24 24\"\n",
              "     width=\"24px\">\n",
              "    <g>\n",
              "        <path d=\"M19 3H5c-1.1 0-2 .9-2 2v14c0 1.1.9 2 2 2h14c1.1 0 2-.9 2-2V5c0-1.1-.9-2-2-2zM9 17H7v-7h2v7zm4 0h-2V7h2v10zm4 0h-2v-4h2v4z\"/>\n",
              "    </g>\n",
              "</svg>\n",
              "      </button>\n",
              "\n",
              "<style>\n",
              "  .colab-df-quickchart {\n",
              "      --bg-color: #E8F0FE;\n",
              "      --fill-color: #1967D2;\n",
              "      --hover-bg-color: #E2EBFA;\n",
              "      --hover-fill-color: #174EA6;\n",
              "      --disabled-fill-color: #AAA;\n",
              "      --disabled-bg-color: #DDD;\n",
              "  }\n",
              "\n",
              "  [theme=dark] .colab-df-quickchart {\n",
              "      --bg-color: #3B4455;\n",
              "      --fill-color: #D2E3FC;\n",
              "      --hover-bg-color: #434B5C;\n",
              "      --hover-fill-color: #FFFFFF;\n",
              "      --disabled-bg-color: #3B4455;\n",
              "      --disabled-fill-color: #666;\n",
              "  }\n",
              "\n",
              "  .colab-df-quickchart {\n",
              "    background-color: var(--bg-color);\n",
              "    border: none;\n",
              "    border-radius: 50%;\n",
              "    cursor: pointer;\n",
              "    display: none;\n",
              "    fill: var(--fill-color);\n",
              "    height: 32px;\n",
              "    padding: 0;\n",
              "    width: 32px;\n",
              "  }\n",
              "\n",
              "  .colab-df-quickchart:hover {\n",
              "    background-color: var(--hover-bg-color);\n",
              "    box-shadow: 0 1px 2px rgba(60, 64, 67, 0.3), 0 1px 3px 1px rgba(60, 64, 67, 0.15);\n",
              "    fill: var(--button-hover-fill-color);\n",
              "  }\n",
              "\n",
              "  .colab-df-quickchart-complete:disabled,\n",
              "  .colab-df-quickchart-complete:disabled:hover {\n",
              "    background-color: var(--disabled-bg-color);\n",
              "    fill: var(--disabled-fill-color);\n",
              "    box-shadow: none;\n",
              "  }\n",
              "\n",
              "  .colab-df-spinner {\n",
              "    border: 2px solid var(--fill-color);\n",
              "    border-color: transparent;\n",
              "    border-bottom-color: var(--fill-color);\n",
              "    animation:\n",
              "      spin 1s steps(1) infinite;\n",
              "  }\n",
              "\n",
              "  @keyframes spin {\n",
              "    0% {\n",
              "      border-color: transparent;\n",
              "      border-bottom-color: var(--fill-color);\n",
              "      border-left-color: var(--fill-color);\n",
              "    }\n",
              "    20% {\n",
              "      border-color: transparent;\n",
              "      border-left-color: var(--fill-color);\n",
              "      border-top-color: var(--fill-color);\n",
              "    }\n",
              "    30% {\n",
              "      border-color: transparent;\n",
              "      border-left-color: var(--fill-color);\n",
              "      border-top-color: var(--fill-color);\n",
              "      border-right-color: var(--fill-color);\n",
              "    }\n",
              "    40% {\n",
              "      border-color: transparent;\n",
              "      border-right-color: var(--fill-color);\n",
              "      border-top-color: var(--fill-color);\n",
              "    }\n",
              "    60% {\n",
              "      border-color: transparent;\n",
              "      border-right-color: var(--fill-color);\n",
              "    }\n",
              "    80% {\n",
              "      border-color: transparent;\n",
              "      border-right-color: var(--fill-color);\n",
              "      border-bottom-color: var(--fill-color);\n",
              "    }\n",
              "    90% {\n",
              "      border-color: transparent;\n",
              "      border-bottom-color: var(--fill-color);\n",
              "    }\n",
              "  }\n",
              "</style>\n",
              "\n",
              "      <script>\n",
              "        async function quickchart(key) {\n",
              "          const quickchartButtonEl =\n",
              "            document.querySelector('#' + key + ' button');\n",
              "          quickchartButtonEl.disabled = true;  // To prevent multiple clicks.\n",
              "          quickchartButtonEl.classList.add('colab-df-spinner');\n",
              "          try {\n",
              "            const charts = await google.colab.kernel.invokeFunction(\n",
              "                'suggestCharts', [key], {});\n",
              "          } catch (error) {\n",
              "            console.error('Error during call to suggestCharts:', error);\n",
              "          }\n",
              "          quickchartButtonEl.classList.remove('colab-df-spinner');\n",
              "          quickchartButtonEl.classList.add('colab-df-quickchart-complete');\n",
              "        }\n",
              "        (() => {\n",
              "          let quickchartButtonEl =\n",
              "            document.querySelector('#df-6516e7c1-5ce4-419d-a91c-ac9ff8cc6c0b button');\n",
              "          quickchartButtonEl.style.display =\n",
              "            google.colab.kernel.accessAllowed ? 'block' : 'none';\n",
              "        })();\n",
              "      </script>\n",
              "    </div>\n",
              "\n",
              "    </div>\n",
              "  </div>\n"
            ],
            "application/vnd.google.colaboratory.intrinsic+json": {
              "type": "dataframe",
              "summary": "{\n  \"name\": \"data\",\n  \"rows\": 8,\n  \"fields\": [\n    {\n      \"column\": \"Age\",\n      \"properties\": {\n        \"dtype\": \"number\",\n        \"std\": 548.3608026426875,\n        \"min\": 8.77850229512636,\n        \"max\": 1586.0,\n        \"num_unique_values\": 8,\n        \"samples\": [\n          32.01891551071879,\n          29.0,\n          1586.0\n        ],\n        \"semantic_type\": \"\",\n        \"description\": \"\"\n      }\n    },\n    {\n      \"column\": \"No_of_Dependents\",\n      \"properties\": {\n        \"dtype\": \"Float64\",\n        \"num_unique_values\": 7,\n        \"samples\": [\n          1584.0,\n          2.4589646464646466,\n          3.0\n        ],\n        \"semantic_type\": \"\",\n        \"description\": \"\"\n      }\n    },\n    {\n      \"column\": \"Salary\",\n      \"properties\": {\n        \"dtype\": \"number\",\n        \"std\": 31816.311614843078,\n        \"min\": 1573.0,\n        \"max\": 99300.0,\n        \"num_unique_values\": 8,\n        \"samples\": [\n          60340.368722186904,\n          59500.0,\n          1573.0\n        ],\n        \"semantic_type\": \"\",\n        \"description\": \"\"\n      }\n    },\n    {\n      \"column\": \"Partner_salary\",\n      \"properties\": {\n        \"dtype\": \"number\",\n        \"std\": 26956.21309081848,\n        \"min\": 0.0,\n        \"max\": 80500.0,\n        \"num_unique_values\": 7,\n        \"samples\": [\n          1480.0,\n          20348.513513513513,\n          38300.0\n        ],\n        \"semantic_type\": \"\",\n        \"description\": \"\"\n      }\n    },\n    {\n      \"column\": \"Total_salary\",\n      \"properties\": {\n        \"dtype\": \"number\",\n        \"std\": 52551.28279022182,\n        \"min\": 1586.0,\n        \"max\": 171000.0,\n        \"num_unique_values\": 8,\n        \"samples\": [\n          79806.43127364438,\n          78050.0,\n          1586.0\n        ],\n        \"semantic_type\": \"\",\n        \"description\": \"\"\n      }\n    },\n    {\n      \"column\": \"Price\",\n      \"properties\": {\n        \"dtype\": \"number\",\n        \"std\": 232796.55711646736,\n        \"min\": 58.0,\n        \"max\": 680000.0,\n        \"num_unique_values\": 8,\n        \"samples\": [\n          36006.97225725095,\n          31000.0,\n          1586.0\n        ],\n        \"semantic_type\": \"\",\n        \"description\": \"\"\n      }\n    }\n  ]\n}"
            }
          },
          "metadata": {},
          "execution_count": 79
        }
      ]
    },
    {
      "cell_type": "markdown",
      "source": [
        "6-Check the null values"
      ],
      "metadata": {
        "id": "DeupOw-rdg5x"
      }
    },
    {
      "cell_type": "code",
      "source": [
        "data.isnull().sum()"
      ],
      "metadata": {
        "colab": {
          "base_uri": "https://localhost:8080/",
          "height": 523
        },
        "id": "Uc2e0Yg4dhvU",
        "outputId": "44c569cc-eda8-4545-f41b-86b3e0de6331"
      },
      "execution_count": null,
      "outputs": [
        {
          "output_type": "execute_result",
          "data": {
            "text/plain": [
              "Age                   0\n",
              "Gender               53\n",
              "Profession           11\n",
              "Marital_status        0\n",
              "Education             0\n",
              "No_of_Dependents      2\n",
              "Personal_loan         0\n",
              "House_loan            0\n",
              "Partner_working       0\n",
              "Salary               13\n",
              "Partner_salary      106\n",
              "Total_salary          0\n",
              "Price                 0\n",
              "Make                  2\n",
              "dtype: int64"
            ],
            "text/html": [
              "<div>\n",
              "<style scoped>\n",
              "    .dataframe tbody tr th:only-of-type {\n",
              "        vertical-align: middle;\n",
              "    }\n",
              "\n",
              "    .dataframe tbody tr th {\n",
              "        vertical-align: top;\n",
              "    }\n",
              "\n",
              "    .dataframe thead th {\n",
              "        text-align: right;\n",
              "    }\n",
              "</style>\n",
              "<table border=\"1\" class=\"dataframe\">\n",
              "  <thead>\n",
              "    <tr style=\"text-align: right;\">\n",
              "      <th></th>\n",
              "      <th>0</th>\n",
              "    </tr>\n",
              "  </thead>\n",
              "  <tbody>\n",
              "    <tr>\n",
              "      <th>Age</th>\n",
              "      <td>0</td>\n",
              "    </tr>\n",
              "    <tr>\n",
              "      <th>Gender</th>\n",
              "      <td>53</td>\n",
              "    </tr>\n",
              "    <tr>\n",
              "      <th>Profession</th>\n",
              "      <td>11</td>\n",
              "    </tr>\n",
              "    <tr>\n",
              "      <th>Marital_status</th>\n",
              "      <td>0</td>\n",
              "    </tr>\n",
              "    <tr>\n",
              "      <th>Education</th>\n",
              "      <td>0</td>\n",
              "    </tr>\n",
              "    <tr>\n",
              "      <th>No_of_Dependents</th>\n",
              "      <td>2</td>\n",
              "    </tr>\n",
              "    <tr>\n",
              "      <th>Personal_loan</th>\n",
              "      <td>0</td>\n",
              "    </tr>\n",
              "    <tr>\n",
              "      <th>House_loan</th>\n",
              "      <td>0</td>\n",
              "    </tr>\n",
              "    <tr>\n",
              "      <th>Partner_working</th>\n",
              "      <td>0</td>\n",
              "    </tr>\n",
              "    <tr>\n",
              "      <th>Salary</th>\n",
              "      <td>13</td>\n",
              "    </tr>\n",
              "    <tr>\n",
              "      <th>Partner_salary</th>\n",
              "      <td>106</td>\n",
              "    </tr>\n",
              "    <tr>\n",
              "      <th>Total_salary</th>\n",
              "      <td>0</td>\n",
              "    </tr>\n",
              "    <tr>\n",
              "      <th>Price</th>\n",
              "      <td>0</td>\n",
              "    </tr>\n",
              "    <tr>\n",
              "      <th>Make</th>\n",
              "      <td>2</td>\n",
              "    </tr>\n",
              "  </tbody>\n",
              "</table>\n",
              "</div><br><label><b>dtype:</b> int64</label>"
            ]
          },
          "metadata": {},
          "execution_count": 80
        }
      ]
    },
    {
      "cell_type": "markdown",
      "source": [
        "7-Check the duplicate values"
      ],
      "metadata": {
        "id": "9iEChfU8dnh9"
      }
    },
    {
      "cell_type": "code",
      "source": [
        "data.duplicated().sum()"
      ],
      "metadata": {
        "colab": {
          "base_uri": "https://localhost:8080/"
        },
        "id": "_qJrc0b5dpTy",
        "outputId": "73477ce2-ea70-4bc2-c428-9ca286e2f8c2"
      },
      "execution_count": null,
      "outputs": [
        {
          "output_type": "execute_result",
          "data": {
            "text/plain": [
              "np.int64(5)"
            ]
          },
          "metadata": {},
          "execution_count": 81
        }
      ]
    },
    {
      "cell_type": "markdown",
      "source": [
        "8-Check the anomalies or wrong entries."
      ],
      "metadata": {
        "id": "fcjTfOfadwWF"
      }
    },
    {
      "cell_type": "code",
      "source": [
        "\n",
        "# Check for negative values in Salary and Partner_salary columns\n",
        "data[data['Salary'] < 0]\n",
        "data[data['Partner_salary'] < 0]\n",
        "\n",
        "# Check for impossible values in No_of_Dependents column\n",
        "data[data['No_of_Dependents'] < 0]\n",
        "data[data['No_of_Dependents'] > 10]\n",
        "\n",
        "# Check for invalid values in categorical columns\n",
        "data[~data['Gender'].isin(['Male', 'Female'])]\n",
        "data[~data['Profession'].isin(data['Profession'].unique())]\n",
        "data[~data['Marital_status'].isin(['Married', 'Single'])]\n",
        "data[~data['Education'].isin(['Graduate', 'Post Graduate'])]\n",
        "data[~data['Personal_loan'].isin(['Yes', 'No'])]\n",
        "data[~data['House_loan'].isin(['Yes', 'No'])]\n",
        "data[~data['Partner_working'].isin(['Yes', 'No'])]\n"
      ],
      "metadata": {
        "id": "5LG5bjsChpOz",
        "colab": {
          "base_uri": "https://localhost:8080/",
          "height": 73
        },
        "outputId": "b8017012-87b5-471c-fac5-82598cdcc206"
      },
      "execution_count": null,
      "outputs": [
        {
          "output_type": "execute_result",
          "data": {
            "text/plain": [
              "Empty DataFrame\n",
              "Columns: [Age, Gender, Profession, Marital_status, Education, No_of_Dependents, Personal_loan, House_loan, Partner_working, Salary, Partner_salary, Total_salary, Price, Make]\n",
              "Index: []"
            ],
            "text/html": [
              "\n",
              "  <div id=\"df-ec0ac08f-9510-4142-b7e5-288d301a30a4\" class=\"colab-df-container\">\n",
              "    <div>\n",
              "<style scoped>\n",
              "    .dataframe tbody tr th:only-of-type {\n",
              "        vertical-align: middle;\n",
              "    }\n",
              "\n",
              "    .dataframe tbody tr th {\n",
              "        vertical-align: top;\n",
              "    }\n",
              "\n",
              "    .dataframe thead th {\n",
              "        text-align: right;\n",
              "    }\n",
              "</style>\n",
              "<table border=\"1\" class=\"dataframe\">\n",
              "  <thead>\n",
              "    <tr style=\"text-align: right;\">\n",
              "      <th></th>\n",
              "      <th>Age</th>\n",
              "      <th>Gender</th>\n",
              "      <th>Profession</th>\n",
              "      <th>Marital_status</th>\n",
              "      <th>Education</th>\n",
              "      <th>No_of_Dependents</th>\n",
              "      <th>Personal_loan</th>\n",
              "      <th>House_loan</th>\n",
              "      <th>Partner_working</th>\n",
              "      <th>Salary</th>\n",
              "      <th>Partner_salary</th>\n",
              "      <th>Total_salary</th>\n",
              "      <th>Price</th>\n",
              "      <th>Make</th>\n",
              "    </tr>\n",
              "  </thead>\n",
              "  <tbody>\n",
              "  </tbody>\n",
              "</table>\n",
              "</div>\n",
              "    <div class=\"colab-df-buttons\">\n",
              "\n",
              "  <div class=\"colab-df-container\">\n",
              "    <button class=\"colab-df-convert\" onclick=\"convertToInteractive('df-ec0ac08f-9510-4142-b7e5-288d301a30a4')\"\n",
              "            title=\"Convert this dataframe to an interactive table.\"\n",
              "            style=\"display:none;\">\n",
              "\n",
              "  <svg xmlns=\"http://www.w3.org/2000/svg\" height=\"24px\" viewBox=\"0 -960 960 960\">\n",
              "    <path d=\"M120-120v-720h720v720H120Zm60-500h600v-160H180v160Zm220 220h160v-160H400v160Zm0 220h160v-160H400v160ZM180-400h160v-160H180v160Zm440 0h160v-160H620v160ZM180-180h160v-160H180v160Zm440 0h160v-160H620v160Z\"/>\n",
              "  </svg>\n",
              "    </button>\n",
              "\n",
              "  <style>\n",
              "    .colab-df-container {\n",
              "      display:flex;\n",
              "      gap: 12px;\n",
              "    }\n",
              "\n",
              "    .colab-df-convert {\n",
              "      background-color: #E8F0FE;\n",
              "      border: none;\n",
              "      border-radius: 50%;\n",
              "      cursor: pointer;\n",
              "      display: none;\n",
              "      fill: #1967D2;\n",
              "      height: 32px;\n",
              "      padding: 0 0 0 0;\n",
              "      width: 32px;\n",
              "    }\n",
              "\n",
              "    .colab-df-convert:hover {\n",
              "      background-color: #E2EBFA;\n",
              "      box-shadow: 0px 1px 2px rgba(60, 64, 67, 0.3), 0px 1px 3px 1px rgba(60, 64, 67, 0.15);\n",
              "      fill: #174EA6;\n",
              "    }\n",
              "\n",
              "    .colab-df-buttons div {\n",
              "      margin-bottom: 4px;\n",
              "    }\n",
              "\n",
              "    [theme=dark] .colab-df-convert {\n",
              "      background-color: #3B4455;\n",
              "      fill: #D2E3FC;\n",
              "    }\n",
              "\n",
              "    [theme=dark] .colab-df-convert:hover {\n",
              "      background-color: #434B5C;\n",
              "      box-shadow: 0px 1px 3px 1px rgba(0, 0, 0, 0.15);\n",
              "      filter: drop-shadow(0px 1px 2px rgba(0, 0, 0, 0.3));\n",
              "      fill: #FFFFFF;\n",
              "    }\n",
              "  </style>\n",
              "\n",
              "    <script>\n",
              "      const buttonEl =\n",
              "        document.querySelector('#df-ec0ac08f-9510-4142-b7e5-288d301a30a4 button.colab-df-convert');\n",
              "      buttonEl.style.display =\n",
              "        google.colab.kernel.accessAllowed ? 'block' : 'none';\n",
              "\n",
              "      async function convertToInteractive(key) {\n",
              "        const element = document.querySelector('#df-ec0ac08f-9510-4142-b7e5-288d301a30a4');\n",
              "        const dataTable =\n",
              "          await google.colab.kernel.invokeFunction('convertToInteractive',\n",
              "                                                    [key], {});\n",
              "        if (!dataTable) return;\n",
              "\n",
              "        const docLinkHtml = 'Like what you see? Visit the ' +\n",
              "          '<a target=\"_blank\" href=https://colab.research.google.com/notebooks/data_table.ipynb>data table notebook</a>'\n",
              "          + ' to learn more about interactive tables.';\n",
              "        element.innerHTML = '';\n",
              "        dataTable['output_type'] = 'display_data';\n",
              "        await google.colab.output.renderOutput(dataTable, element);\n",
              "        const docLink = document.createElement('div');\n",
              "        docLink.innerHTML = docLinkHtml;\n",
              "        element.appendChild(docLink);\n",
              "      }\n",
              "    </script>\n",
              "  </div>\n",
              "\n",
              "\n",
              "    </div>\n",
              "  </div>\n"
            ],
            "application/vnd.google.colaboratory.intrinsic+json": {
              "type": "dataframe",
              "repr_error": "Out of range float values are not JSON compliant: nan"
            }
          },
          "metadata": {},
          "execution_count": 82
        }
      ]
    },
    {
      "cell_type": "markdown",
      "source": [
        "9-Check the outliers and their authenticity."
      ],
      "metadata": {
        "id": "o58t8IeXfFS7"
      }
    },
    {
      "cell_type": "code",
      "source": [
        "plt.figure(figsize=(10, 10))\n",
        "sns.boxplot(data=data,orient='h')\n"
      ],
      "metadata": {
        "id": "nmXiJCEqikoW",
        "colab": {
          "base_uri": "https://localhost:8080/",
          "height": 848
        },
        "outputId": "aa7685c9-5dc2-4942-cab8-73eb5fa1aec5"
      },
      "execution_count": null,
      "outputs": [
        {
          "output_type": "execute_result",
          "data": {
            "text/plain": [
              "<Axes: >"
            ]
          },
          "metadata": {},
          "execution_count": 83
        },
        {
          "output_type": "display_data",
          "data": {
            "text/plain": [
              "<Figure size 1000x1000 with 1 Axes>"
            ],
            "image/png": "[encoded data removed]"
          },
          "metadata": {}
        }
      ]
    },
    {
      "cell_type": "markdown",
      "source": [
        "10-Do the necessary data cleaning steps like dropping duplicates, unnecessary columns, null value imputation, outliers treatment etc."
      ],
      "metadata": {
        "id": "2qStoYDhfTHL"
      }
    },
    {
      "cell_type": "code",
      "source": [
        "\n",
        "data = data.drop_duplicates()\n",
        "\n",
        "data['No_of_Dependents'] = data['No_of_Dependents'].replace('?', np.nan)\n",
        "\n",
        "data['No_of_Dependents'] = data['No_of_Dependents'].fillna(data['No_of_Dependents'].median())\n",
        "\n",
        "data['Make'] = data['Make'].fillna(data['Make'].mode()[0])\n",
        "\n",
        "\n",
        "salary_cap = data['Salary'].quantile(0.95)\n",
        "data['Salary'] = np.where(data['Salary'] > salary_cap, salary_cap, data['Salary'])\n",
        "\n",
        "partner_salary_cap = data['Partner_salary'].quantile(0.95)\n",
        "data['Partner_salary'] = np.where(data['Partner_salary'] > partner_salary_cap, partner_salary_cap, data['Partner_salary'])\n",
        "\n",
        "\n",
        "print(data.isnull().sum())\n",
        "print(data.describe())"
      ],
      "metadata": {
        "colab": {
          "base_uri": "https://localhost:8080/"
        },
        "id": "VeZUZY_Ht8E6",
        "outputId": "eaaa65cf-7ce8-423e-ae6d-3d6bd97d065c"
      },
      "execution_count": null,
      "outputs": [
        {
          "output_type": "stream",
          "name": "stdout",
          "text": [
            "Age                   0\n",
            "Gender               53\n",
            "Profession            6\n",
            "Marital_status        0\n",
            "Education             0\n",
            "No_of_Dependents      0\n",
            "Personal_loan         0\n",
            "House_loan            0\n",
            "Partner_working       0\n",
            "Salary               13\n",
            "Partner_salary      106\n",
            "Total_salary          0\n",
            "Price                 0\n",
            "Make                  0\n",
            "dtype: int64\n",
            "               Age  No_of_Dependents        Salary  Partner_salary  \\\n",
            "count  1581.000000            1581.0   1568.000000     1475.000000   \n",
            "mean     31.952562          2.456673  60014.371811    19394.915254   \n",
            "std       8.712549          0.942755  14121.722393    17951.712932   \n",
            "min      14.000000               0.0  30000.000000        0.000000   \n",
            "25%      25.000000               2.0  51900.000000        0.000000   \n",
            "50%      29.000000               2.0  59450.000000    25600.000000   \n",
            "75%      38.000000               3.0  71700.000000    38300.000000   \n",
            "max     120.000000               4.0  83765.000000    45500.000000   \n",
            "\n",
            "        Total_salary          Price  \n",
            "count    1581.000000    1581.000000  \n",
            "mean    79625.996205   35948.170778  \n",
            "std     25545.857768   21175.212108  \n",
            "min     30000.000000      58.000000  \n",
            "25%     60500.000000   25000.000000  \n",
            "50%     78000.000000   31000.000000  \n",
            "75%     95900.000000   47000.000000  \n",
            "max    171000.000000  680000.000000  \n"
          ]
        },
        {
          "output_type": "stream",
          "name": "stderr",
          "text": [
            "<ipython-input-84-3752048476>:3: SettingWithCopyWarning: \n",
            "A value is trying to be set on a copy of a slice from a DataFrame.\n",
            "Try using .loc[row_indexer,col_indexer] = value instead\n",
            "\n",
            "See the caveats in the documentation: https://pandas.pydata.org/pandas-docs/stable/user_guide/indexing.html#returning-a-view-versus-a-copy\n",
            "  data['No_of_Dependents'] = data['No_of_Dependents'].replace('?', np.nan)\n",
            "<ipython-input-84-3752048476>:5: SettingWithCopyWarning: \n",
            "A value is trying to be set on a copy of a slice from a DataFrame.\n",
            "Try using .loc[row_indexer,col_indexer] = value instead\n",
            "\n",
            "See the caveats in the documentation: https://pandas.pydata.org/pandas-docs/stable/user_guide/indexing.html#returning-a-view-versus-a-copy\n",
            "  data['No_of_Dependents'] = data['No_of_Dependents'].fillna(data['No_of_Dependents'].median())\n",
            "<ipython-input-84-3752048476>:7: SettingWithCopyWarning: \n",
            "A value is trying to be set on a copy of a slice from a DataFrame.\n",
            "Try using .loc[row_indexer,col_indexer] = value instead\n",
            "\n",
            "See the caveats in the documentation: https://pandas.pydata.org/pandas-docs/stable/user_guide/indexing.html#returning-a-view-versus-a-copy\n",
            "  data['Make'] = data['Make'].fillna(data['Make'].mode()[0])\n",
            "<ipython-input-84-3752048476>:11: SettingWithCopyWarning: \n",
            "A value is trying to be set on a copy of a slice from a DataFrame.\n",
            "Try using .loc[row_indexer,col_indexer] = value instead\n",
            "\n",
            "See the caveats in the documentation: https://pandas.pydata.org/pandas-docs/stable/user_guide/indexing.html#returning-a-view-versus-a-copy\n",
            "  data['Salary'] = np.where(data['Salary'] > salary_cap, salary_cap, data['Salary'])\n",
            "<ipython-input-84-3752048476>:14: SettingWithCopyWarning: \n",
            "A value is trying to be set on a copy of a slice from a DataFrame.\n",
            "Try using .loc[row_indexer,col_indexer] = value instead\n",
            "\n",
            "See the caveats in the documentation: https://pandas.pydata.org/pandas-docs/stable/user_guide/indexing.html#returning-a-view-versus-a-copy\n",
            "  data['Partner_salary'] = np.where(data['Partner_salary'] > partner_salary_cap, partner_salary_cap, data['Partner_salary'])\n"
          ]
        }
      ]
    },
    {
      "cell_type": "code",
      "source": [
        "data.loc[:, 'Make'] = data['Make'].replace('?', np.nan)\n"
      ],
      "metadata": {
        "id": "01AfJfOEDVfx"
      },
      "execution_count": null,
      "outputs": []
    },
    {
      "cell_type": "markdown",
      "source": [
        "* Descriptive Statistics:\n",
        "What are the mean, median, and standard deviation of the ages of individuals in the dataset?"
      ],
      "metadata": {
        "id": "l_jcE_z7fe_1"
      }
    },
    {
      "cell_type": "code",
      "source": [
        "mean_Age = data['Age'].mean()\n",
        "median_Age = data['Age'].median()\n",
        "std_dev_Age = data['Age'].std()\n",
        "print(\"Mean Age:\", mean_Age)\n",
        "print(\"Median Age:\", median_Age)\n",
        "print(\"Standard deviation of Age:\", std_dev_Age)"
      ],
      "metadata": {
        "colab": {
          "base_uri": "https://localhost:8080/"
        },
        "id": "p6-kAXfcfgUv",
        "outputId": "487acc2d-176c-4ed4-d3e7-65a740d9e7b3"
      },
      "execution_count": null,
      "outputs": [
        {
          "output_type": "stream",
          "name": "stdout",
          "text": [
            "Mean Age: 31.952561669829223\n",
            "Median Age: 29.0\n",
            "Standard deviation of Age: 8.71254886208395\n"
          ]
        }
      ]
    },
    {
      "cell_type": "markdown",
      "source": [
        "* Data Distribution:\n",
        "What is the distribution of gender in the dataset? Represent it using a pie chart"
      ],
      "metadata": {
        "id": "greGxpEMgUgm"
      }
    },
    {
      "source": [
        "gender_data = pd.DataFrame({\n",
        "    'Gender': ['Female', 'female', 'Male', 'Female', 'Male', 'male', 'Male', 'Female', 'female']\n",
        "})\n",
        "\n",
        "gender_data['Gender'] = gender_data['Gender'].str.capitalize()\n",
        "gender_distribution = gender_data['Gender'].value_counts()\n",
        "\n",
        "plt.figure(figsize=(8, 6))\n",
        "plt.pie(gender_distribution, labels=gender_distribution.index, autopct='%1.1f%%', startangle=160)\n",
        "plt.title('Gender Distribution')\n",
        "plt.axis('equal')\n",
        "plt.show()\n"
      ],
      "cell_type": "code",
      "metadata": {
        "colab": {
          "base_uri": "https://localhost:8080/",
          "height": 524
        },
        "id": "QeNzxTgYgrr_",
        "outputId": "db0c9125-119c-440f-bf1b-b2bb1f50064c"
      },
      "execution_count": null,
      "outputs": [
        {
          "output_type": "display_data",
          "data": {
            "text/plain": [
              "<Figure size 800x600 with 1 Axes>"
            ],
            "image/png": "[encoded data removed]"
          },
          "metadata": {}
        }
      ]
    },
    {
      "cell_type": "code",
      "source": [
        "#The error was showing, so to check whether the entire dataset was loaded or not (re-confirmation)\n",
        "print(data.columns)"
      ],
      "metadata": {
        "colab": {
          "base_uri": "https://localhost:8080/"
        },
        "id": "w_1x7wYSX7Lf",
        "outputId": "8b04c421-99ff-4312-d2e6-b47e5681d821"
      },
      "execution_count": null,
      "outputs": [
        {
          "output_type": "stream",
          "name": "stdout",
          "text": [
            "Index(['Age', 'Gender', 'Profession', 'Marital_status', 'Education',\n",
            "       'No_of_Dependents', 'Personal_loan', 'House_loan', 'Partner_working',\n",
            "       'Salary', 'Partner_salary', 'Total_salary', 'Price', 'Make'],\n",
            "      dtype='object')\n"
          ]
        }
      ]
    },
    {
      "cell_type": "markdown",
      "source": [
        "* Correlation Analysis:\n",
        "Is there a correlation between age and salary? Provide the correlation coefficient and interpret the result"
      ],
      "metadata": {
        "id": "yy4-Y2OchMH-"
      }
    },
    {
      "cell_type": "code",
      "source": [
        "\n",
        "# Calculate correlation coefficient\n",
        "correlation_coefficient = data['Age'].corr(data['Salary'])\n",
        "\n",
        "# Print correlation coefficient\n",
        "print(\"Correlation coefficient between age and salary:\", correlation_coefficient)\n",
        "\n",
        "# Interpretation of the result\n",
        "if correlation_coefficient > 0:\n",
        "    print(\"There is a positive correlation between age and salary.\")\n",
        "elif correlation_coefficient < 0:\n",
        "    print(\"There is a negative correlation between age and salary.\")\n",
        "else:\n",
        "    print(\"There is no correlation between age and salary.\")\n",
        "\n"
      ],
      "metadata": {
        "colab": {
          "base_uri": "https://localhost:8080/"
        },
        "id": "XU0-3HyRgxLT",
        "outputId": "7ffb39e5-f1ea-4a2e-b8ab-fd80f8832cef"
      },
      "execution_count": null,
      "outputs": [
        {
          "output_type": "stream",
          "name": "stdout",
          "text": [
            "Correlation coefficient between age and salary: 0.5832117068214205\n",
            "There is a positive correlation between age and salary.\n"
          ]
        }
      ]
    },
    {
      "cell_type": "markdown",
      "source": [
        "* Salary Analysis:\n",
        "What is the average salary for individuals based on their educational qualifications (Graduate vs. Post Graduate)?"
      ],
      "metadata": {
        "id": "BT_7cd7Od4pG"
      }
    },
    {
      "cell_type": "code",
      "source": [
        "\n",
        "\n",
        "average_salary_by_education = data.groupby('Education')['Salary'].mean()\n",
        "print(average_salary_by_education)\n"
      ],
      "metadata": {
        "id": "SiUz2HmPjK7r",
        "colab": {
          "base_uri": "https://localhost:8080/"
        },
        "outputId": "0209754e-2cb9-463b-ac55-70a3caf89055"
      },
      "execution_count": null,
      "outputs": [
        {
          "output_type": "stream",
          "name": "stdout",
          "text": [
            "Education\n",
            "Graduate         48382.922297\n",
            "Post Graduate    67069.513320\n",
            "Name: Salary, dtype: float64\n"
          ]
        }
      ]
    },
    {
      "cell_type": "markdown",
      "source": [
        "* Loan Status:\n",
        "What percentage of individuals have taken a personal loan? How does this compare between males and females?"
      ],
      "metadata": {
        "id": "6VqnUSiXd67v"
      }
    },
    {
      "cell_type": "code",
      "source": [
        "\n",
        "total_personal_loans = data['Personal_loan'].value_counts()['Yes']\n",
        "total_individuals = len(data)\n",
        "overall_percentage = (total_personal_loans / total_individuals) * 100\n",
        "print(\"Overall percentage of individuals with personal loans: {:.2f}%\".format(overall_percentage))\n",
        "\n",
        "gender_loan_counts = data.groupby(['Gender', 'Personal_loan'])['Personal_loan'].count()\n",
        "male_personal_loans = gender_loan_counts.loc['Male', 'Yes']\n",
        "female_personal_loans = gender_loan_counts.loc['Female', 'Yes']\n",
        "male_total = gender_loan_counts.loc['Male'].sum()\n",
        "female_total = gender_loan_counts.loc['Female'].sum()\n",
        "male_percentage = (male_personal_loans / male_total) * 100\n",
        "female_percentage = (female_personal_loans / female_total) * 100\n",
        "print(\"Percentage of males with personal loans: {:.2f}%\".format(male_percentage))\n",
        "print(\"Percentage of females with personal loans: {:.2f}%\".format(female_percentage))\n"
      ],
      "metadata": {
        "id": "GAyuQmEnjjt0",
        "colab": {
          "base_uri": "https://localhost:8080/"
        },
        "outputId": "19ad6cfb-d044-41b9-f4b7-513094d30cbd"
      },
      "execution_count": null,
      "outputs": [
        {
          "output_type": "stream",
          "name": "stdout",
          "text": [
            "Overall percentage of individuals with personal loans: 50.09%\n",
            "Percentage of males with personal loans: 51.63%\n",
            "Percentage of females with personal loans: 45.26%\n"
          ]
        }
      ]
    },
    {
      "cell_type": "markdown",
      "source": [
        "* Marital Status and Dependents:\n",
        "What is the average number of dependents for married individuals versus single individuals?"
      ],
      "metadata": {
        "id": "CGUcYqYbeE6k"
      }
    },
    {
      "cell_type": "code",
      "source": [
        "\n",
        "average_dependents_by_marital_status = data_cleaned.groupby('Marital_status')['No_of_Dependents'].mean()\n",
        "print(average_dependents_by_marital_status)"
      ],
      "metadata": {
        "id": "3zXGAMDjeG4v",
        "colab": {
          "base_uri": "https://localhost:8080/"
        },
        "outputId": "67a15619-930e-46ce-d3e3-f8864bd532ca"
      },
      "execution_count": null,
      "outputs": [
        {
          "output_type": "stream",
          "name": "stdout",
          "text": [
            "Marital_status\n",
            "Married    2.540111\n",
            "Single     1.608696\n",
            "Name: No_of_Dependents, dtype: Float64\n"
          ]
        }
      ]
    },
    {
      "cell_type": "markdown",
      "source": [
        "* Partner Employment:\n",
        "How does the employment status of a partner affect the total combined salary?"
      ],
      "metadata": {
        "id": "96ArIFgweHSi"
      }
    },
    {
      "cell_type": "code",
      "source": [
        "\n",
        "average_total_salary_by_partner_working = data.groupby('Partner_working')['Total_salary'].mean()\n",
        "print(average_total_salary_by_partner_working)\n"
      ],
      "metadata": {
        "id": "7wuChwG-eI6N",
        "colab": {
          "base_uri": "https://localhost:8080/"
        },
        "outputId": "9d3191e5-17c7-44c8-ee6c-791474ca031d"
      },
      "execution_count": null,
      "outputs": [
        {
          "output_type": "stream",
          "name": "stdout",
          "text": [
            "Partner_working\n",
            "No     60527.208976\n",
            "Yes    95314.285714\n",
            "Name: Total_salary, dtype: float64\n"
          ]
        }
      ]
    },
    {
      "cell_type": "markdown",
      "source": [
        "* Salary Comparison:\n",
        "Compare the average salary of individuals whose partners are working versus those whose partners are not working."
      ],
      "metadata": {
        "id": "kLhWUwfteJk7"
      }
    },
    {
      "cell_type": "code",
      "source": [
        "\n",
        "partner_working_salary = data[data['Partner_working'] == 'Yes']['Salary'].mean()\n",
        "partner_not_working_salary = data[data['Partner_working'] == 'No']['Salary'].mean()\n",
        "\n",
        "print(\"Average salary of individuals whose partners are working: {:.2f}\".format(partner_working_salary))\n",
        "print(\"Average salary of individuals whose partners are not working: {:.2f}\".format(partner_not_working_salary))\n"
      ],
      "metadata": {
        "id": "QcYLZRO5eLzH",
        "colab": {
          "base_uri": "https://localhost:8080/"
        },
        "outputId": "0967dde8-f1b2-4714-f9d5-362570023315"
      },
      "execution_count": null,
      "outputs": [
        {
          "output_type": "stream",
          "name": "stdout",
          "text": [
            "Average salary of individuals whose partners are working: 59909.08\n",
            "Average salary of individuals whose partners are not working: 60144.94\n"
          ]
        }
      ]
    },
    {
      "cell_type": "markdown",
      "source": [
        "* House Loan Analysis:\n",
        "What is the proportion of individuals with house loans based on their profession?"
      ],
      "metadata": {
        "id": "oEOKo8f3eOQJ"
      }
    },
    {
      "cell_type": "code",
      "source": [
        "\n",
        "data_cleaned = data.dropna(subset=['Profession', 'House_loan'])\n",
        "\n",
        "# Group by 'Profession' and 'House_loan' and count occurrences\n",
        "profession_house_loan_counts = data_cleaned.groupby(['Profession', 'House_loan'])['House_loan'].count()\n",
        "\n",
        "# Calculate proportions for each profession\n",
        "proportions = {}\n",
        "for profession in data_cleaned['Profession'].unique():\n",
        "    total_count = profession_house_loan_counts.loc[profession].sum()\n",
        "    yes_count = profession_house_loan_counts.loc[(profession, 'Yes')] if (profession, 'Yes') in profession_house_loan_counts.index else 0\n",
        "    proportion = (yes_count / total_count) * 100 if total_count > 0 else 0\n",
        "    proportions[profession] = proportion\n",
        "\n",
        "# Print results\n",
        "for profession, proportion in proportions.items():\n",
        "    print(f\"Proportion of individuals with house loans in {profession}: {proportion:.2f}%\")\n",
        "\n"
      ],
      "metadata": {
        "id": "xM6IkQpHePIv",
        "colab": {
          "base_uri": "https://localhost:8080/"
        },
        "outputId": "19b51e20-1fb4-4022-fc4e-be5ef10720e0"
      },
      "execution_count": null,
      "outputs": [
        {
          "output_type": "stream",
          "name": "stdout",
          "text": [
            "Proportion of individuals with house loans in Business: 33.43%\n",
            "Proportion of individuals with house loans in Salaried: 33.48%\n"
          ]
        }
      ]
    },
    {
      "cell_type": "markdown",
      "source": [
        "* Salary Distribution:\n",
        "What is the distribution of salaries for individuals with personal loans versus those without personal loans? Represent it using a box plot."
      ],
      "metadata": {
        "id": "eil60R3yeQBo"
      }
    },
    {
      "cell_type": "code",
      "source": [
        "\n",
        "\n",
        "# Create a box plot to compare salary distributions\n",
        "plt.figure(figsize=(8, 6))\n",
        "sns.boxplot(x='Personal_loan', y='Salary', data=data)\n",
        "plt.title('Salary Distribution for Individuals with and without Personal Loans')\n",
        "plt.xlabel('Personal Loan')\n",
        "plt.ylabel('Salary')\n",
        "plt.show()\n"
      ],
      "metadata": {
        "id": "ZapK8NQyeSFR",
        "colab": {
          "base_uri": "https://localhost:8080/",
          "height": 564
        },
        "outputId": "91f51930-d18c-41f8-ac7d-a9f8328588f7"
      },
      "execution_count": null,
      "outputs": [
        {
          "output_type": "display_data",
          "data": {
            "text/plain": [
              "<Figure size 800x600 with 1 Axes>"
            ],
            "image/png": "[encoded data removed]"
          },
          "metadata": {}
        }
      ]
    },
    {
      "cell_type": "markdown",
      "source": [
        "* Automobile Make Analysis:\n",
        "How does the type of automobile relate to the salary of the individuals? Provide insights based on the make of the automobile."
      ],
      "metadata": {
        "id": "2ZLTTt_7eSpd"
      }
    },
    {
      "cell_type": "code",
      "source": [
        "\n",
        "\n",
        "# Group the data by car make and calculate the average salary for each group\n",
        "average_salary_by_make = data.groupby('Make')['Salary'].mean().sort_values(ascending=False)\n",
        "\n",
        "# Print the results\n",
        "print(average_salary_by_make)\n",
        "\n",
        "# Create a bar plot to visualize the relationship between car make and average salary\n",
        "plt.figure(figsize=(10, 6))\n",
        "average_salary_by_make.plot(kind='bar')\n",
        "plt.title('Average Salary by Automobile Make')\n",
        "plt.xlabel('Automobile Make')\n",
        "plt.ylabel('Average Salary')\n",
        "plt.xticks(rotation=45, ha='right')\n",
        "plt.tight_layout()\n",
        "plt.show()\n",
        "\n",
        "\n"
      ],
      "metadata": {
        "id": "sllQV820eVmI",
        "colab": {
          "base_uri": "https://localhost:8080/",
          "height": 698
        },
        "outputId": "ebac79e3-62c4-4d73-c528-54c5fa566b35"
      },
      "execution_count": null,
      "outputs": [
        {
          "output_type": "stream",
          "name": "stdout",
          "text": [
            "Make\n",
            "SUV          70721.003521\n",
            "Sedan        59770.897436\n",
            "Hatchback    55083.505155\n",
            "Name: Salary, dtype: float64\n"
          ]
        },
        {
          "output_type": "display_data",
          "data": {
            "text/plain": [
              "<Figure size 1000x600 with 1 Axes>"
            ],
            "image/png": "[encoded data removed]"
          },
          "metadata": {}
        }
      ]
    },
    {
      "cell_type": "code",
      "source": [
        "\n",
        "\n",
        "# Calculate median salary, standard deviation of salary, and count of individuals for each car make\n",
        "salary_stats_by_make = data.groupby('Make')['Salary'].agg(['median', 'std', 'count'])\n",
        "print(salary_stats_by_make)\n",
        "\n",
        "# Explore the relationship between car make and age\n",
        "plt.figure(figsize=(10, 6))\n",
        "sns.boxplot(x='Make', y='Age', data=data)\n",
        "plt.title('Age Distribution by Automobile Make')\n",
        "plt.xlabel('Automobile Make')\n",
        "plt.ylabel('Age')\n",
        "plt.xticks(rotation=45, ha='right')\n",
        "plt.tight_layout()\n",
        "plt.show()\n",
        "\n",
        "# Explore the relationship between car make and profession\n",
        "profession_counts_by_make = data.groupby(['Make', 'Profession'])['Profession'].count().unstack()\n",
        "profession_counts_by_make.plot(kind='bar', stacked=True, figsize=(10, 6))\n",
        "plt.title('Profession Distribution by Automobile Make')\n",
        "plt.xlabel('Automobile Make')\n",
        "plt.ylabel('Count')\n",
        "plt.xticks(rotation=45, ha='right')\n",
        "plt.legend(title='Profession', bbox_to_anchor=(1.05, 1), loc='upper left')\n",
        "plt.tight_layout()\n",
        "plt.show()\n",
        "\n",
        "# Explore the relationship between car make and education level\n",
        "education_counts_by_make = data.groupby(['Make', 'Education'])['Education'].count().unstack()\n",
        "education_counts_by_make.plot(kind='bar', stacked=True, figsize=(10, 6))\n",
        "plt.title('Education Level Distribution by Automobile Make')\n",
        "plt.xlabel('Automobile Make')\n",
        "plt.ylabel('Count')\n",
        "plt.xticks(rotation=45, ha='right')\n",
        "plt.legend(title='Education Level', bbox_to_anchor=(1.05, 1), loc='upper left')\n",
        "plt.tight_layout()\n",
        "plt.show()\n",
        "\n",
        "# Perform ANOVA test to determine if there are significant differences in salary between different car make groups\n",
        "from scipy import stats\n",
        "groups = []\n",
        "for make in data['Make'].unique():\n",
        "  groups.append(data[data['Make'] == make]['Salary'])\n",
        "f_statistic, p_value = stats.f_oneway(*groups)\n",
        "print(\"F-statistic:\", f_statistic)\n",
        "print(\"P-value:\", p_value)\n",
        "\n",
        "if p_value < 0.05:\n",
        "  print(\"There are significant differences in salary between different car make groups.\")\n",
        "else:\n",
        "  print(\"There are no significant differences in salary between different car make groups.\")\n"
      ],
      "metadata": {
        "colab": {
          "base_uri": "https://localhost:8080/",
          "height": 1000
        },
        "id": "K1DKq11_cVaU",
        "outputId": "94f2cfec-9425-428d-c230-884f5532a0be"
      },
      "execution_count": null,
      "outputs": [
        {
          "output_type": "stream",
          "name": "stdout",
          "text": [
            "            median           std  count\n",
            "Make                                   \n",
            "Hatchback  56100.0  13084.408983    582\n",
            "SUV        73600.0  12584.406532    284\n",
            "Sedan      59850.0  13163.203993    702\n"
          ]
        },
        {
          "output_type": "display_data",
          "data": {
            "text/plain": [
              "<Figure size 1000x600 with 1 Axes>"
            ],
            "image/png": "[encoded data removed]"
          },
          "metadata": {}
        },
        {
          "output_type": "display_data",
          "data": {
            "text/plain": [
              "<Figure size 1000x600 with 1 Axes>"
            ],
            "image/png": "[encoded data removed]"
          },
          "metadata": {}
        },
        {
          "output_type": "display_data",
          "data": {
            "text/plain": [
              "<Figure size 1000x600 with 1 Axes>"
            ],
            "image/png": "[encoded data removed]"
          },
          "metadata": {}
        },
        {
          "output_type": "stream",
          "name": "stdout",
          "text": [
            "F-statistic: nan\n",
            "P-value: nan\n",
            "There are no significant differences in salary between different car make groups.\n"
          ]
        }
      ]
    },
    {
      "cell_type": "markdown",
      "source": [
        "* Price Analysis:\n",
        "What is the average price of the product/service in the dataset? How does this price vary based on the individual's total salary?"
      ],
      "metadata": {
        "id": "M_zuil1XeYLA"
      }
    },
    {
      "cell_type": "code",
      "source": [
        "\n",
        "# Calculate the average price of the product/service\n",
        "average_price = data['Price'].mean()\n",
        "print(\"Average price of the product/service: {:.2f}\".format(average_price))\n",
        "\n",
        "# Analyze how price varies based on total salary\n",
        "plt.figure(figsize=(10, 6))\n",
        "sns.scatterplot(x='Total_salary', y='Price', data=data)\n",
        "plt.title('Price vs. Total Salary')\n",
        "plt.xlabel('Total Salary')\n",
        "plt.ylabel('Price')\n",
        "plt.show()\n",
        "\n",
        "\n",
        "income_groups = pd.cut(data['Total_salary'], bins=[0, 50000, 100000, 150000, 200000, np.inf],\n",
        "                       labels=['<50k', '50k-100k', '100k-150k', '150k-200k', '>200k'])\n",
        "average_price_by_income_group = data.groupby(income_groups)['Price'].mean()\n",
        "print(average_price_by_income_group)\n",
        "\n",
        "# Perform regression analysis to model the relationship between price and total salary\n",
        "from sklearn.linear_model import LinearRegression\n",
        "X = data['Total_salary'].values.reshape(-1, 1)\n",
        "y = data['Price'].values\n",
        "model = LinearRegression()\n",
        "model.fit(X, y)\n",
        "print(\"Intercept:\", model.intercept_)\n",
        "print(\"Coefficient:\", model.coef_[0])\n",
        "\n",
        "# Plot the regression line\n",
        "plt.figure(figsize=(10, 6))\n",
        "sns.scatterplot(x='Total_salary', y='Price', data=data)\n",
        "plt.plot(X, model.predict(X), color='red')\n",
        "plt.title('Price vs. Total Salary with Regression Line')\n",
        "plt.xlabel('Total Salary')\n",
        "plt.ylabel('Price')\n",
        "plt.show()\n"
      ],
      "metadata": {
        "id": "UD2fAfEqeZBA",
        "colab": {
          "base_uri": "https://localhost:8080/",
          "height": 1000
        },
        "outputId": "97baecc0-bf28-4480-d0e4-121de13582b4"
      },
      "execution_count": null,
      "outputs": [
        {
          "output_type": "stream",
          "name": "stdout",
          "text": [
            "Average price of the product/service: 35948.17\n"
          ]
        },
        {
          "output_type": "display_data",
          "data": {
            "text/plain": [
              "<Figure size 1000x600 with 1 Axes>"
            ],
            "image/png": "[encoded data removed]"
          },
          "metadata": {}
        },
        {
          "output_type": "stream",
          "name": "stderr",
          "text": [
            "<ipython-input-100-3134944662>:16: FutureWarning: The default of observed=False is deprecated and will be changed to True in a future version of pandas. Pass observed=False to retain current behavior or observed=True to adopt the future default and silence this warning.\n",
            "  average_price_by_income_group = data.groupby(income_groups)['Price'].mean()\n"
          ]
        },
        {
          "output_type": "stream",
          "name": "stdout",
          "text": [
            "Total_salary\n",
            "<50k         31090.277778\n",
            "50k-100k     33723.818834\n",
            "100k-150k    44359.322034\n",
            "150k-200k    61814.814815\n",
            ">200k                 NaN\n",
            "Name: Price, dtype: float64\n",
            "Intercept: 18915.476954877693\n",
            "Coefficient: 0.21390870613755136\n"
          ]
        },
        {
          "output_type": "display_data",
          "data": {
            "text/plain": [
              "<Figure size 1000x600 with 1 Axes>"
            ],
            "image/png": "[encoded data removed]"
          },
          "metadata": {}
        }
      ]
    },
    {
      "cell_type": "markdown",
      "source": [
        "* Marital Status and Loans:\n",
        "Is there a significant difference in the number of personal loans taken by married individuals compared to single individuals?"
      ],
      "metadata": {
        "id": "I3OeXolpeZXm"
      }
    },
    {
      "cell_type": "code",
      "source": [
        "\n",
        "\n",
        "# Group the data by marital status and personal loan status and count the occurrences\n",
        "loan_counts_by_marital_status = data.groupby(['Marital_status', 'Personal_loan'])['Personal_loan'].count()\n",
        "\n",
        "# Extract the counts for married and single individuals with personal loans\n",
        "married_loan_yes = loan_counts_by_marital_status.loc[('Married', 'Yes')] if ('Married', 'Yes') in loan_counts_by_marital_status.index else 0\n",
        "single_loan_yes = loan_counts_by_marital_status.loc[('Single', 'Yes')] if ('Single', 'Yes') in loan_counts_by_marital_status.index else 0\n",
        "\n",
        "# Extract the total counts for married and single individuals\n",
        "married_total = loan_counts_by_marital_status.loc['Married'].sum()\n",
        "single_total = loan_counts_by_marital_status.loc['Single'].sum()\n",
        "\n",
        "# Perform a chi-squared test for independence\n",
        "contingency_table = np.array([[married_loan_yes, married_total - married_loan_yes],\n",
        "                             [single_loan_yes, single_total - single_loan_yes]])\n",
        "chi2, p, dof, expected = stats.chi2_contingency(contingency_table)\n",
        "\n",
        "# Print the results\n",
        "print(\"Chi-squared statistic:\", chi2)\n",
        "print(\"P-value:\", p)\n",
        "\n",
        "# Interpret the results\n",
        "if p < 0.05:\n",
        "  print(\"There is a significant difference in the number of personal loans taken by married individuals compared to single individuals.\")\n",
        "else:\n",
        "  print(\"There is no significant difference in the number of personal loans taken by married individuals compared to single individuals.\")\n"
      ],
      "metadata": {
        "id": "0ijOa1rBeceI",
        "colab": {
          "base_uri": "https://localhost:8080/"
        },
        "outputId": "504f6412-5add-4568-b5dd-75829de5bc07"
      },
      "execution_count": null,
      "outputs": [
        {
          "output_type": "stream",
          "name": "stdout",
          "text": [
            "Chi-squared statistic: 0.1782394652161357\n",
            "P-value: 0.6728906021290224\n",
            "There is no significant difference in the number of personal loans taken by married individuals compared to single individuals.\n"
          ]
        }
      ]
    },
    {
      "cell_type": "markdown",
      "source": [
        "* Educational Qualification Impact:\n",
        "How does educational qualification impact the likelihood of taking a house loan?"
      ],
      "metadata": {
        "id": "wbef_RqNedgi"
      }
    },
    {
      "cell_type": "code",
      "source": [
        "\n",
        "\n",
        "# Group the data by education level and house loan status and count the occurrences\n",
        "loan_counts_by_education = data.groupby(['Education', 'House_loan'])['House_loan'].count()\n",
        "\n",
        "# Extract the counts for graduates and postgraduates with house loans\n",
        "graduate_loan_yes = loan_counts_by_education.loc[('Graduate', 'Yes')] if ('Graduate', 'Yes') in loan_counts_by_education.index else 0\n",
        "postgraduate_loan_yes = loan_counts_by_education.loc[('Post Graduate', 'Yes')] if ('Post Graduate', 'Yes') in loan_counts_by_education.index else 0\n",
        "\n",
        "# Extract the total counts for graduates and postgraduates\n",
        "graduate_total = loan_counts_by_education.loc['Graduate'].sum()\n",
        "postgraduate_total = loan_counts_by_education.loc['Post Graduate'].sum()\n",
        "\n",
        "# Calculate the proportions of house loans for each education level\n",
        "graduate_proportion = (graduate_loan_yes / graduate_total) * 100 if graduate_total > 0 else 0\n",
        "postgraduate_proportion = (postgraduate_loan_yes / postgraduate_total) * 100 if postgraduate_total > 0 else 0\n",
        "\n",
        "# Print the results\n",
        "print(\"Proportion of graduates with house loans: {:.2f}%\".format(graduate_proportion))\n",
        "print(\"Proportion of postgraduates with house loans: {:.2f}%\".format(postgraduate_proportion))\n",
        "\n",
        "# Perform a chi-squared test for independence\n",
        "contingency_table = np.array([[graduate_loan_yes, graduate_total - graduate_loan_yes],\n",
        "                             [postgraduate_loan_yes, postgraduate_total - postgraduate_loan_yes]])\n",
        "chi2, p, dof, expected = stats.chi2_contingency(contingency_table)\n",
        "\n",
        "# Print the results\n",
        "print(\"Chi-squared statistic:\", chi2)\n",
        "print(\"P-value:\", p)\n",
        "\n",
        "# Interpret the results\n",
        "if p < 0.05:\n",
        "  print(\"There is a significant association between educational qualification and the likelihood of taking a house loan.\")\n",
        "else:\n",
        "  print(\"There is no significant association between educational qualification and the likelihood of taking a house loan.\")\n"
      ],
      "metadata": {
        "id": "O1hPqTzTegBp",
        "colab": {
          "base_uri": "https://localhost:8080/"
        },
        "outputId": "56575526-4b1d-454a-827c-4d78c6178d13"
      },
      "execution_count": null,
      "outputs": [
        {
          "output_type": "stream",
          "name": "stdout",
          "text": [
            "Proportion of graduates with house loans: 33.89%\n",
            "Proportion of postgraduates with house loans: 32.99%\n",
            "Chi-squared statistic: 0.09728754301093587\n",
            "P-value: 0.7551092941718088\n",
            "There is no significant association between educational qualification and the likelihood of taking a house loan.\n"
          ]
        }
      ]
    },
    {
      "cell_type": "markdown",
      "source": [
        "* Dependent Count Analysis:\n",
        "Analyze the number of dependents based on the profession of the individual. Which profession has the highest average number of dependents?"
      ],
      "metadata": {
        "id": "hgFwoFCgeglA"
      }
    },
    {
      "cell_type": "code",
      "source": [
        "# Check the data type of 'No_of_Dependents' column\n",
        "print(data_cleaned['No_of_Dependents'].dtype)\n",
        "\n",
        "# Attempt to convert 'No_of_Dependents' to numeric, handling errors\n",
        "data_cleaned['No_of_Dependents'] = pd.to_numeric(data_cleaned['No_of_Dependents'], errors='coerce')\n",
        "\n",
        "# Check for missing values after conversion\n",
        "print(data_cleaned['No_of_Dependents'].isnull().sum())\n",
        "\n",
        "# Now, try calculating the average dependents by profession\n",
        "average_dependents_by_profession = data_cleaned.groupby('Profession')['No_of_Dependents'].mean().sort_values(ascending=False)\n",
        "\n",
        "# Print the results\n",
        "print(average_dependents_by_profession)\n",
        "\n",
        "# Find the profession with the highest average number of dependents\n",
        "profession_with_highest_dependents = average_dependents_by_profession.index[0]\n",
        "print(\"\\nProfession with the highest average number of dependents:\", profession_with_highest_dependents)"
      ],
      "metadata": {
        "colab": {
          "base_uri": "https://localhost:8080/"
        },
        "id": "9L4A9HkyFNes",
        "outputId": "c308ba01-b666-4805-f862-9249cf7855f2"
      },
      "execution_count": null,
      "outputs": [
        {
          "output_type": "stream",
          "name": "stdout",
          "text": [
            "Int64\n",
            "0\n",
            "Profession\n",
            "Business    2.490511\n",
            "Salaried     2.42809\n",
            "Name: No_of_Dependents, dtype: Float64\n",
            "\n",
            "Profession with the highest average number of dependents: Business\n"
          ]
        },
        {
          "output_type": "stream",
          "name": "stderr",
          "text": [
            "<ipython-input-103-3401909412>:5: SettingWithCopyWarning: \n",
            "A value is trying to be set on a copy of a slice from a DataFrame.\n",
            "Try using .loc[row_indexer,col_indexer] = value instead\n",
            "\n",
            "See the caveats in the documentation: https://pandas.pydata.org/pandas-docs/stable/user_guide/indexing.html#returning-a-view-versus-a-copy\n",
            "  data_cleaned['No_of_Dependents'] = pd.to_numeric(data_cleaned['No_of_Dependents'], errors='coerce')\n"
          ]
        }
      ]
    },
    {
      "cell_type": "markdown",
      "source": [
        "* Gender and Salary:\n",
        "Is there a significant difference in salaries between males and females? Provide statistical evidence."
      ],
      "metadata": {
        "id": "bxqB7JLBejGz"
      }
    },
    {
      "cell_type": "code",
      "source": [
        "\n",
        "\n",
        "# Perform a t-test to compare salaries between males and females\n",
        "male_salaries = data[data['Gender'] == 'Male']['Salary']\n",
        "female_salaries = data[data['Gender'] == 'Female']['Salary']\n",
        "t_statistic, p_value = stats.ttest_ind(male_salaries, female_salaries)\n",
        "\n",
        "# Print the results\n",
        "print(\"T-statistic:\", t_statistic)\n",
        "print(\"P-value:\", p_value)\n",
        "\n",
        "# Interpret the results\n",
        "if p_value < 0.05:\n",
        "  print(\"There is a significant difference in salaries between males and females.\")\n",
        "else:\n",
        "  print(\"There is no significant difference in salaries between males and females.\")\n"
      ],
      "metadata": {
        "id": "kP8u6cL4epKk",
        "colab": {
          "base_uri": "https://localhost:8080/"
        },
        "outputId": "0de30b2c-dc42-4818-c89b-87f15c6c2c30"
      },
      "execution_count": null,
      "outputs": [
        {
          "output_type": "stream",
          "name": "stdout",
          "text": [
            "T-statistic: nan\n",
            "P-value: nan\n",
            "There is no significant difference in salaries between males and females.\n"
          ]
        }
      ]
    },
    {
      "cell_type": "markdown",
      "source": [
        "* Regression Analysis:\n",
        "Build a regression model to predict an individual's salary based on age, education, and number of dependents. Discuss the model's accuracy and significance"
      ],
      "metadata": {
        "id": "cpcwJRbHenRc"
      }
    },
    {
      "cell_type": "code",
      "source": [
        "#REGRESSION"
      ],
      "metadata": {
        "id": "_KJC-mpsthN2"
      },
      "execution_count": null,
      "outputs": []
    },
    {
      "cell_type": "markdown",
      "source": [
        "* Loan Status Impact:\n",
        "How does having a personal loan affect the total combined salary of the individual and their partner?"
      ],
      "metadata": {
        "id": "dCG9cVtTeuI2"
      }
    },
    {
      "cell_type": "code",
      "source": [
        "\n",
        "\n",
        "# Group the data by personal loan status and calculate the average total combined salary\n",
        "average_total_salary_by_loan = data.groupby('Personal_loan')['Total_salary'].mean()\n",
        "\n",
        "# Print the results\n",
        "print(average_total_salary_by_loan)\n",
        "\n",
        "# Perform a t-test to compare total combined salaries between individuals with and without personal loans\n",
        "loan_yes_salaries = data[data['Personal_loan'] == 'Yes']['Total_salary']\n",
        "loan_no_salaries = data[data['Personal_loan'] == 'No']['Total_salary']\n",
        "t_statistic, p_value = stats.ttest_ind(loan_yes_salaries, loan_no_salaries)\n",
        "\n",
        "# Print the results\n",
        "print(\"T-statistic:\", t_statistic)\n",
        "print(\"P-value:\", p_value)\n",
        "\n",
        "# Interpret the results\n",
        "if p_value < 0.05:\n",
        "  print(\"There is a significant difference in total combined salaries between individuals with and without personal loans.\")\n",
        "else:\n",
        "  print(\"There is no significant difference in total combined salaries between individuals with and without personal loans.\")\n",
        "\n"
      ],
      "metadata": {
        "id": "i2W1YqM8ewlF",
        "colab": {
          "base_uri": "https://localhost:8080/"
        },
        "outputId": "28397489-3f6c-420d-9023-9b37cf600e7e"
      },
      "execution_count": null,
      "outputs": [
        {
          "output_type": "stream",
          "name": "stdout",
          "text": [
            "Personal_loan\n",
            "No     81077.566540\n",
            "Yes    78179.924242\n",
            "Name: Total_salary, dtype: float64\n",
            "T-statistic: -2.257989876744976\n",
            "P-value: 0.02408233038961498\n",
            "There is a significant difference in total combined salaries between individuals with and without personal loans.\n"
          ]
        }
      ]
    },
    {
      "cell_type": "markdown",
      "source": [
        "* Partner's Salary Contribution:\n",
        "What is the average partner's salary for individuals with and without house loans?"
      ],
      "metadata": {
        "id": "-83misSIew91"
      }
    },
    {
      "cell_type": "code",
      "source": [
        "\n",
        "# Group the data by house loan status and calculate the average partner's salary\n",
        "average_partner_salary_by_house_loan = data.groupby('House_loan')['Partner_salary'].mean()\n",
        "\n",
        "# Print the results\n",
        "print(average_partner_salary_by_house_loan)\n"
      ],
      "metadata": {
        "colab": {
          "base_uri": "https://localhost:8080/"
        },
        "id": "v_m9MK5qtIZ-",
        "outputId": "caf56957-0596-4c2f-9ec0-7b37d901e9a8"
      },
      "execution_count": null,
      "outputs": [
        {
          "output_type": "stream",
          "name": "stdout",
          "text": [
            "House_loan\n",
            "No     19433.197140\n",
            "Yes    19319.354839\n",
            "Name: Partner_salary, dtype: float64\n"
          ]
        }
      ]
    },
    {
      "cell_type": "markdown",
      "source": [
        "* Total Salary Distribution:\n",
        "Create a histogram showing the distribution of total combined salaries. Identify and discuss any skewness or outliers in the data.\n"
      ],
      "metadata": {
        "id": "FXy0YCg_e0ES"
      }
    },
    {
      "cell_type": "code",
      "source": [
        "\n",
        "# Create a histogram of total combined salaries\n",
        "plt.figure(figsize=(10, 6))\n",
        "plt.hist(data['Total_salary'], bins=20)\n",
        "plt.title('Distribution of Total Combined Salaries')\n",
        "plt.xlabel('Total Salary')\n",
        "plt.ylabel('Frequency')\n",
        "plt.show()\n",
        "\n",
        "# Calculate skewness and kurtosis\n",
        "skewness = data['Total_salary'].skew()\n",
        "kurtosis = data['Total_salary'].kurt()\n",
        "print(\"Skewness:\", skewness)\n",
        "print(\"Kurtosis:\", kurtosis)\n",
        "\n",
        "# Identify outliers using the IQR method\n",
        "Q1 = data['Total_salary'].quantile(0.25)\n",
        "Q3 = data['Total_salary'].quantile(0.75)\n",
        "IQR = Q3 - Q1\n",
        "lower_bound = Q1 - 1.5 * IQR\n",
        "upper_bound = Q3 + 1.5 * IQR\n",
        "outliers = data[(data['Total_salary'] < lower_bound) | (data['Total_salary'] > upper_bound)]\n",
        "print(\"Number of outliers:\", len(outliers))\n",
        "\n",
        "# Discuss the results\n",
        "# The histogram shows that the distribution of total combined salaries is positively skewed, meaning that there are more individuals with lower total salaries and a few individuals with very high total salaries.\n",
        "# The skewness value of [insert skewness value] confirms this positive skew.\n",
        "# The kurtosis value of [insert kurtosis value] indicates that the distribution has heavier tails than a normal distribution, suggesting the presence of outliers.\n",
        "# The IQR method identified [insert number of outliers] outliers, which are individuals with total salaries significantly higher than the majority of the population.\n",
        "# These outliers could be due to various factors such as high-paying professions, multiple sources of income, or inheritance.\n"
      ],
      "metadata": {
        "colab": {
          "base_uri": "https://localhost:8080/",
          "height": 618
        },
        "id": "TjmYv5Q4pEI-",
        "outputId": "3dba1890-0ea5-4129-e319-ec9e4c00e475"
      },
      "execution_count": null,
      "outputs": [
        {
          "output_type": "display_data",
          "data": {
            "text/plain": [
              "<Figure size 1000x600 with 1 Axes>"
            ],
            "image/png": "[encoded data removed]"
          },
          "metadata": {}
        },
        {
          "output_type": "stream",
          "name": "stdout",
          "text": [
            "Skewness: 0.6097056414760922\n",
            "Kurtosis: 0.6477311703314852\n",
            "Number of outliers: 27\n"
          ]
        }
      ]
    },
    {
      "cell_type": "markdown",
      "source": [
        "## Observations\n",
        "\n",
        "- **Moderate Positive Skewness (0.6097)**:  \n",
        "  The dataset, likely representing vehicle sales prices, shows moderate right skewness. This indicates that most sales occur at lower price points, with a few higher-priced transactions — a typical pattern for a used car dealership like Bright Motor Company.\n",
        "\n",
        "- **Slightly Leptokurtic Distribution (Kurtosis = 0.6477)**:  \n",
        "  The positive kurtosis suggests heavier tails than a normal distribution, implying more extreme sales prices (e.g., premium or discounted vehicles) than expected.\n",
        "\n",
        "- **Significant Outliers (27)**:  \n",
        "  The 27 identified outliers likely represent high-value sales (e.g., low-mileage SUVs or trucks) or unique transactions (e.g., trade-ins), which can influence average pricing metrics.\n",
        "\n",
        "- **Business Context Alignment**:  \n",
        "  The skewness aligns with Bright Motor Company’s diverse inventory — including cars, trucks, and SUVs — which appeals to both budget-conscious customers and those seeking premium vehicles.\n",
        "\n",
        "- **Customer Satisfaction Insight**:  \n",
        "  These outliers may reflect successful high-value sales. This aligns with the company’s 4.7-star rating and customer reviews highlighting quick and transparent transactions.\n",
        "\n",
        "---\n",
        "\n",
        "## Conclusion\n",
        "\n",
        "### Summary of Findings\n",
        "The dataset’s moderate skewness, leptokurtic shape, and 27 outliers indicate a pricing distribution centered around moderate values, with several high-value or heavily discounted transactions.\n",
        "\n",
        "### Implications for Analysis\n",
        "Due to the non-normal distribution, it is recommended to apply robust statistical techniques or data transformations (e.g., log transformation) when modeling pricing or forecasting sales.\n",
        "\n",
        "### Business Strategy Insight\n",
        "The observed pricing behavior supports Bright Motor Company’s business strategy — offering both affordable and premium vehicles, thus reinforcing its focus on quality and customer satisfaction.\n",
        "\n"
      ],
      "metadata": {
        "id": "ggGMONC26Pfj"
      }
    },
    {
      "cell_type": "code",
      "source": [],
      "metadata": {
        "id": "1coCl3gu6P-E"
      },
      "execution_count": null,
      "outputs": []
    }
  ]
}